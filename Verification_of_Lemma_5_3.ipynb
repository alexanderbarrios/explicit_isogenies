{
 "cells": [
  {
   "cell_type": "code",
   "execution_count": 1,
   "metadata": {
    "collapsed": false
   },
   "outputs": [
   ],
   "source": [
    "from sage.schemes.elliptic_curves.weierstrass_morphism import *\n",
    "S.<t,d> = QQ[]\n",
    "load('models.sage')\n",
    "var('x')\n",
    "assume(x,'rational')\n",
    "def Iso(E1,E2):\n",
    "\treturn E1.change_ring(QQ).is_isomorphic(E2.change_ring(QQ))"
   ]
  },
  {
   "cell_type": "markdown",
   "metadata": {
    "collapsed": false
   },
   "source": [
    "**Case n=2.** The code below shows that $\\{x \\in \\mathbb{Q} \\mid j_{2,1}(x) = j_{2,2}(x)   \\} = \\{\\pm 64 \\}$ and that $\\mathcal{C}_{2,1}(64,d)$ is not $\\mathbb{Q}$-isomorphic to $\\mathcal{C}_{2,2}(64,d)$. We note that $\\mathcal{C}_{2,1}(-64,d)$ is a singular curve."
   ]
  },
  {
   "cell_type": "code",
   "execution_count": 2,
   "metadata": {
    "collapsed": false
   },
   "outputs": [
    {
     "name": "stdout",
     "output_type": "stream",
     "text": [
      "[\n",
      "x == -64,\n",
      "x == 64\n",
      "]\n",
      "False\n"
     ]
    }
   ],
   "source": [
    "print(solve(J21(x)==J22(x),x))\n",
    "print(Iso(calC2_1(64,1),calC2_2(64,1)))"
   ]
  },
  {
   "cell_type": "markdown",
   "metadata": {
    "collapsed": false
   },
   "source": [
    "**Case n=3.** The code below shows that $\\{x \\in \\mathbb{Q} \\mid j_{3,1}(x) = j_{3,2}(x)   \\} = \\{\\pm 27 \\}$ and that $\\mathcal{C}_{3,1}(27,d)$ is not $\\mathbb{Q}$-isomorphic to $\\mathcal{C}_{3,2}(27,d)$. We note that $\\mathcal{C}_{3,1}(27,d)$ is a singular curve."
   ]
  },
  {
   "cell_type": "code",
   "execution_count": 3,
   "metadata": {
    "collapsed": false
   },
   "outputs": [
    {
     "name": "stdout",
     "output_type": "stream",
     "text": [
      "[\n",
      "x == 27,\n",
      "x == -27\n",
      "]\n",
      "False\n"
     ]
    }
   ],
   "source": [
    "print(solve(J31(x)==J32(x),x))\n",
    "print(Iso(calC3_1(27,1),calC3_2(27,1)))"
   ]
  },
  {
   "cell_type": "markdown",
   "metadata": {
    "collapsed": false
   },
   "source": [
    "**Case n=4.** The code below shows:\n",
    "\n",
    "(i) $\\{x \\in \\mathbb{Q} \\mid j_{4,i}(x) = j_{4,k}(x)   \\} = \\{ -8 \\}$ and $\\mathcal{C}_{4,i}(-8,d)$ is not $\\mathbb{Q}$-isomorphic to $\\mathcal{C}_{4,k}(-8,d)$ if $(i,k)\\in \\{ (1,2),(3,4) \\}, $\n",
    "\n",
    "(ii) $\\{x \\in \\mathbb{Q} \\mid j_{4,i}(x) = j_{4,k}(x)   \\} = \\{ 16 \\}$ and $\\mathcal{C}_{4,i}(16,d)$ is not $\\mathbb{Q}$-isomorphic to $\\mathcal{C}_{4,k}(16,d)$ if $(i,k)\\in \\{ (1,3),(2,4) \\}, $\n",
    "\n",
    "(iii) $\\{x \\in \\mathbb{Q} \\mid j_{4,i}(x) = j_{4,k}(x)   \\} = \\{-32 \\}$ and $\\mathcal{C}_{4,i}(-32,d)$ is not $\\mathbb{Q}$-isomorphic to $\\mathcal{C}_{4,k}(-32,d)$ if $(i,k)\\in \\{ (1,4),(2,3) \\}. $\n",
    "\n",
    "The code also shows that for the remaining tuples $(i,k)$, $\\{x \\in \\mathbb{Q} \\mid j_{4,i}(x) = j_{4,k}(x)   \\} = \\emptyset.$"
   ]
  },
  {
   "cell_type": "code",
   "execution_count": 4,
   "metadata": {
    "collapsed": false
   },
   "outputs": [
    {
     "name": "stdout",
     "output_type": "stream",
     "text": [
      "[\n",
      "x == -8\n",
      "]\n",
      "[\n",
      "x == 16\n",
      "]\n",
      "[\n",
      "x == -32\n",
      "]\n",
      "[\n",
      "x == -32\n",
      "]\n",
      "[\n",
      "x == 16\n",
      "]\n",
      "[\n",
      "x == -8\n",
      "]\n",
      "False\n",
      "False\n",
      "False\n",
      "False\n",
      "False\n",
      "False\n"
     ]
    }
   ],
   "source": [
    "print(solve(J41(x)==J42(x),x))\n",
    "print(solve(J41(x)==J43(x),x))\n",
    "print(solve(J41(x)==J44(x),x))\n",
    "print(solve(J42(x)==J43(x),x))\n",
    "print(solve(J42(x)==J44(x),x))\n",
    "print(solve(J43(x)==J44(x),x))\n",
    "print(Iso(calC4_1(-8,1),calC4_2(-8,1)))\n",
    "print(Iso(calC4_1(16,1),calC4_3(16,1)))\n",
    "print(Iso(calC4_1(-32,1),calC4_4(-32,1)))\n",
    "print(Iso(calC4_2(-32,1),calC4_3(-32,1)))\n",
    "print(Iso(calC4_2(16,1),calC4_4(16,1)))\n",
    "print(Iso(calC4_3(-8,1),calC4_4(-8,1)))"
   ]
  },
  {
   "cell_type": "markdown",
   "metadata": {
    "collapsed": false
   },
   "source": [
    "**Case n=6.** The code below shows that if $(i,k)\\in \\{ (1,3),(2,4) \\}, $ then $\\{x \\in \\mathbb{Q} \\mid j_{6,i}(x) = j_{6,k}(x)   \\} = \\{ -6,-12 \\}$. Moreover, $\\mathcal{C}_{6,i}(l,d)$ is not $\\mathbb{Q}$-isomorphic to $\\mathcal{C}_{6,k}(l,d)$ for $l \\in \\{-6,-12 \\}$.\n",
    "\n",
    "The code also shows that for the remaining tuples $(i,k)$, $\\{x \\in \\mathbb{Q} \\mid j_{6,i}(x) = j_{6,k}(x)   \\} = \\emptyset.$"
   ]
  },
  {
   "cell_type": "code",
   "execution_count": 5,
   "metadata": {
    "collapsed": false
   },
   "outputs": [
    {
     "name": "stdout",
     "output_type": "stream",
     "text": [
      "[\n",
      "0 == x^8 + 63*x^7 + 5805*x^6 + 242757*x^5 + 5102271*x^4 + 59993784*x^3 + 403107840*x^2 + 1451188224*x + 2176782336\n",
      "]\n",
      "[\n",
      "x == -6,\n",
      "x == -12,\n",
      "0 == x^6 + 8*x^5 + 560*x^4 + 21248*x^3 + 274176*x^2 + 1492992*x + 2985984\n",
      "]\n",
      "[\n",
      "0 == x^6 + 22*x^5 + 91*x^4 - 403*x^3 + 6552*x^2 + 114048*x + 373248\n",
      "]\n",
      "[\n",
      "0 == x^6 + 57*x^5 + 1316*x^4 + 15347*x^3 + 94752*x^2 + 295488*x + 373248\n",
      "]\n",
      "[\n",
      "x == -12,\n",
      "x == -6,\n",
      "0 == x^6 + 36*x^5 + 476*x^4 + 2656*x^3 + 5040*x^2 + 5184*x + 46656\n",
      "]\n",
      "[\n",
      "0 == x^8 + 48*x^7 + 960*x^6 + 10287*x^5 + 62991*x^4 + 215784*x^3 + 371520*x^2 + 290304*x + 331776\n",
      "]\n",
      "False\n",
      "False\n",
      "False\n",
      "False\n"
     ]
    }
   ],
   "source": [
    "print(solve(J61(x)==J62(x),x))\n",
    "print(solve(J61(x)==J63(x),x))\n",
    "print(solve(J61(x)==J64(x),x))\n",
    "print(solve(J62(x)==J63(x),x))\n",
    "print(solve(J62(x)==J64(x),x))\n",
    "print(solve(J63(x)==J64(x),x))\n",
    "print(Iso(calC6_1(-6,1),calC6_3(-6,1)))\n",
    "print(Iso(calC6_1(-12,1),calC6_3(-12,1)))\n",
    "print(Iso(calC6_2(-6,1),calC6_4(-6,1)))\n",
    "print(Iso(calC6_2(-12,1),calC6_4(-12,1)))"
   ]
  },
  {
   "cell_type": "markdown",
   "metadata": {
    "collapsed": false
   },
   "source": [
    "**Case n=7.** The code below shows that $\\{x \\in \\mathbb{Q} \\mid j_{7,1}(x) = j_{7,2}(x)   \\} = \\{\\pm 7 \\}$ and that $\\mathcal{C}_{7,1}(\\pm 7,d)$ is not $\\mathbb{Q}$-isomorphic to $\\mathcal{C}_{7,2}(\\pm 7,d)$."
   ]
  },
  {
   "cell_type": "code",
   "execution_count": 6,
   "metadata": {
    "collapsed": false
   },
   "outputs": [
    {
     "name": "stdout",
     "output_type": "stream",
     "text": [
      "[\n",
      "x == 7,\n",
      "x == -7\n",
      "]\n",
      "False\n",
      "False\n"
     ]
    }
   ],
   "source": [
    "print(solve(J71(x)==J72(x),x))\n",
    "print(Iso(calC7_1(7,1),calC7_2(7,1)))\n",
    "print(Iso(calC7_1(-7,1),calC7_2(-7,1)))"
   ]
  },
  {
   "cell_type": "markdown",
   "metadata": {
    "collapsed": false
   },
   "source": [
    "**Case n=9.** The code below shows:\n",
    "\n",
    "(i) $\\{x \\in \\mathbb{Q} \\mid j_{9,1}(x) = j_{9,2}(x)   \\} = \\{ -6 \\}$ and $\\mathcal{C}_{9,1}(-6,d)$ is not $\\mathbb{Q}$-isomorphic to $\\mathcal{C}_{9,2}(-6,d)$,\n",
    "\n",
    "(ii) $\\{x \\in \\mathbb{Q} \\mid j_{9,1}(x) = j_{9,3}(x)   \\} = \\emptyset$,\n",
    "\n",
    "(iii) $\\{x \\in \\mathbb{Q} \\mid j_{9,2}(x) = j_{9,3}(x)   \\} = \\{0 \\}$ and $\\mathcal{C}_{9,2}(0,d)$ is not $\\mathbb{Q}$-isomorphic to $\\mathcal{C}_{9,3}(0,d)$."
   ]
  },
  {
   "cell_type": "code",
   "execution_count": 7,
   "metadata": {
    "collapsed": false
   },
   "outputs": [
    {
     "name": "stdout",
     "output_type": "stream",
     "text": [
      "[\n",
      "x == -6\n",
      "]\n",
      "[\n",
      "\n",
      "]\n",
      "[\n",
      "x == 0\n",
      "]\n",
      "False\n",
      "False\n"
     ]
    }
   ],
   "source": [
    "print(solve(J91(x)==J92(x),x))\n",
    "print(solve(J91(x)==J93(x),x))\n",
    "print(solve(J92(x)==J93(x),x))\n",
    "print(Iso(calC9_1(-6,1),calC9_2(-6,1)))\n",
    "print(Iso(calC9_2(0,1),calC9_3(0,1)))"
   ]
  },
  {
   "cell_type": "markdown",
   "metadata": {
    "collapsed": false
   },
   "source": [
    "**Case n=5,8,10,12,13,16,18,25.** The code below shows that $\\{x \\in \\mathbb{Q} \\mid j_{n,i}(x) = j_{n,k}(x)   \\} = \\emptyset$ whenever $i \\neq k$."
   ]
  },
  {
   "cell_type": "code",
   "execution_count": 8,
   "metadata": {
    "collapsed": false
   },
   "outputs": [
    {
     "name": "stdout",
     "output_type": "stream",
     "text": [
      "[\n",
      "\n",
      "]\n",
      "[\n",
      "\n",
      "]\n",
      "[\n",
      "\n",
      "]\n",
      "[\n",
      "\n",
      "]\n",
      "[\n",
      "\n",
      "]\n",
      "[\n",
      "\n",
      "]\n",
      "[\n",
      "\n",
      "]\n"
     ]
    },
    {
     "name": "stdout",
     "output_type": "stream",
     "text": [
      "[\n",
      "\n",
      "]\n",
      "[\n",
      "0 == x^6 + 108*x^5 + 5808*x^4 - 27072*x^3 - 43008*x^2 + 147456*x + 262144,\n",
      "0 == x^6 - 68*x^5 + 2288*x^4 - 12992*x^3 + 13312*x^2 - 32768*x + 262144\n",
      "]\n",
      "[\n",
      "0 == x^6 + 9*x^5 - 42*x^4 - 423*x^3 + 1452*x^2 + 432*x + 64,\n",
      "0 == x^6 - 2*x^5 + 13*x^4 - 203*x^3 + 572*x^2 - 272*x + 64\n",
      "]\n",
      "[\n",
      "\n",
      "]\n",
      "[\n",
      "0 == x^6 - 108*x^5 + 5808*x^4 + 27072*x^3 - 43008*x^2 - 147456*x + 262144,\n",
      "0 == x^6 + 68*x^5 + 2288*x^4 + 12992*x^3 + 13312*x^2 + 32768*x + 262144\n",
      "]\n",
      "[\n",
      "0 == x^6 - 9*x^5 - 42*x^4 + 423*x^3 + 1452*x^2 - 432*x + 64,\n",
      "0 == x^6 + 2*x^5 + 13*x^4 + 203*x^3 + 572*x^2 + 272*x + 64\n",
      "]\n",
      "[\n",
      "\n",
      "]\n"
     ]
    },
    {
     "name": "stdout",
     "output_type": "stream",
     "text": [
      "[\n",
      "\n",
      "]\n",
      "[\n",
      "\n",
      "]\n",
      "[\n",
      "0 == x^12 + 7*x^11 + 4111*x^10 + 36570*x^9 + 236670*x^8 + 209267*x^7 + 1742739*x^6 - 837068*x^5 + 3786720*x^4 - 2340480*x^3 + 1052416*x^2 - 7168*x + 4096,\n",
      "0 == x^6 - 84*x^5 - 160*x^4 - 1280*x^3 + 640*x^2 - 1344*x - 64\n",
      "]\n"
     ]
    },
    {
     "name": "stdout",
     "output_type": "stream",
     "text": [
      "[\n",
      "0 == x^6 - 28*x^5 + 288*x^4 - 192*x^3 - 384*x^2 + 256*x + 256,\n",
      "0 == x^6 + 4*x^5 + 64*x^4 + 64*x^3 + 128*x^2 + 256*x + 256\n",
      "]\n"
     ]
    },
    {
     "name": "stdout",
     "output_type": "stream",
     "text": [
      "[\n",
      "0 == x^6 - 7*x^5 + 24*x^4 + 63*x^3 + 60*x^2 - 32*x + 64,\n",
      "0 == x^8 - 13*x^7 + 25*x^6 + 149*x^5 + 147*x^4 + 244*x^3 + 64*x^2 - 512*x + 256\n",
      "]\n"
     ]
    },
    {
     "name": "stdout",
     "output_type": "stream",
     "text": [
      "[\n",
      "0 == x^8 + 8*x^7 + 4*x^6 - 61*x^5 + 147*x^4 - 596*x^3 + 400*x^2 + 832*x + 256,\n",
      "0 == x^6 + 2*x^5 + 15*x^4 - 63*x^3 + 96*x^2 + 112*x + 64\n",
      "]\n",
      "[\n",
      "0 == x^6 - 4*x^5 - 24*x^4 + 48*x^3 + 288*x^2 + 112*x + 16,\n",
      "0 == x^6 - 4*x^5 + 8*x^4 - 16*x^3 + 64*x^2 - 16*x + 16\n",
      "]\n",
      "[\n",
      "0 == x^12 - 8*x^11 + 16*x^10 + 47*x^7 - 141*x^6 - 188*x^5 + 4096*x^2 + 8192*x + 4096,\n",
      "0 == x^6 - 4*x^5 - 64*x - 64\n",
      "]\n",
      "[\n",
      "0 == x^12 - 46*x^10 + 1415*x^8 - 7012*x^6 + 12735*x^4 - 3726*x^2 + 729\n",
      "]\n",
      "[\n",
      "0 == x^16 - 9*x^14 + 4104*x^12 - 4374*x^10 + 83106*x^8 - 531441*x^6 + 1338444*x^4 - 1417176*x^2 + 531441\n",
      "]\n",
      "[\n",
      "0 == x^12 - 32*x^10 + 316*x^8 - 439*x^6 - 306*x^4 + 243*x^2 + 729\n",
      "]\n",
      "[\n",
      "0 == x^8 + 15*x^7 + 108*x^6 + 270*x^5 + 270*x^4 - 405*x^3 - 972*x^2 + 729\n",
      "]\n"
     ]
    },
    {
     "name": "stdout",
     "output_type": "stream",
     "text": [
      "[\n",
      "0 == x^8 - 8*x^7 + 76*x^6 + 296*x^5 - 202*x^4 - 888*x^3 + 684*x^2 + 216*x + 81,\n",
      "0 == x^6 + x^5 + 2*x^4 + 25*x^3 + 6*x^2 - 54*x + 27,\n",
      "0 == x^6 + 20*x^5 + 121*x^4 - 200*x^3 + 363*x^2 + 180*x + 27\n",
      "]\n",
      "[\n",
      "0 == x^8 - 15*x^7 + 108*x^6 - 270*x^5 + 270*x^4 + 405*x^3 - 972*x^2 + 729\n",
      "]\n"
     ]
    },
    {
     "name": "stdout",
     "output_type": "stream",
     "text": [
      "[\n",
      "0 == x^8 + 8*x^7 + 76*x^6 - 296*x^5 - 202*x^4 + 888*x^3 + 684*x^2 - 216*x + 81,\n",
      "0 == x^6 - x^5 + 2*x^4 - 25*x^3 + 6*x^2 + 54*x + 27,\n",
      "0 == x^6 - 20*x^5 + 121*x^4 + 200*x^3 + 363*x^2 - 180*x + 27\n",
      "]\n",
      "[\n",
      "0 == x^12 + 3*x^10 - 34*x^8 - 439*x^6 + 2844*x^4 - 2592*x^2 + 729\n",
      "]\n",
      "[\n",
      "0 == x^16 - 24*x^14 + 204*x^12 - 729*x^10 + 1026*x^8 - 486*x^6 + 4104*x^4 - 81*x^2 + 81\n",
      "]\n",
      "[\n",
      "0 == x^8 - 8*x^7 + 76*x^6 + 296*x^5 - 202*x^4 - 888*x^3 + 684*x^2 + 216*x + 81,\n",
      "0 == x^6 + 6*x^5 + 2*x^4 - 25*x^3 + 6*x^2 - 9*x + 27,\n",
      "0 == x^6 - 20*x^5 + 121*x^4 + 200*x^3 + 363*x^2 - 180*x + 27\n",
      "]\n",
      "[\n",
      "0 == x^8 - 12*x^6 + 15*x^5 + 30*x^4 - 90*x^3 + 108*x^2 - 45*x + 9\n",
      "]\n"
     ]
    },
    {
     "name": "stdout",
     "output_type": "stream",
     "text": [
      "[\n",
      "0 == x^8 + 8*x^7 + 76*x^6 - 296*x^5 - 202*x^4 + 888*x^3 + 684*x^2 - 216*x + 81,\n",
      "0 == x^6 - 6*x^5 + 2*x^4 + 25*x^3 + 6*x^2 + 9*x + 27,\n",
      "0 == x^6 + 20*x^5 + 121*x^4 - 200*x^3 + 363*x^2 + 180*x + 27\n",
      "]\n",
      "[\n",
      "0 == x^8 - 12*x^6 - 15*x^5 + 30*x^4 + 90*x^3 + 108*x^2 + 45*x + 9\n",
      "]\n",
      "[\n",
      "0 == x^12 - 18*x^10 + 71*x^8 + 100*x^6 + 639*x^4 - 1458*x^2 + 729\n",
      "]\n"
     ]
    },
    {
     "name": "stdout",
     "output_type": "stream",
     "text": [
      "[\n",
      "0 == x^8 + 15*x^7 + 108*x^6 + 270*x^5 + 270*x^4 - 405*x^3 - 972*x^2 + 729,\n",
      "0 == x^12 - 18*x^11 + 135*x^10 + 3834*x^9 + 18711*x^8 + 22599*x^7 - 14580*x^6 - 2187*x^5 + 37179*x^4 - 85293*x^3 - 98415*x^2 + 59049*x + 59049\n",
      "]\n",
      "[\n",
      "0 == x^8 - 3*x^7 - 9*x^6 + 99*x^5 + 144*x^4 - 297*x^3 - 81*x^2 + 81*x + 81,\n",
      "0 == x^6 + 6*x^5 + 2*x^4 - 25*x^3 + 6*x^2 - 9*x + 27,\n",
      "0 == x^10 + 4*x^9 + 25*x^8 - 3*x^7 - 269*x^6 + 340*x^5 + 1338*x^4 - 1323*x^3 - 810*x^2 + 486*x + 243,\n",
      "0 == x^6 + 8*x^5 + 9*x^4 - 80*x^3 + 27*x^2 + 72*x + 27\n",
      "]\n",
      "[\n",
      "0 == x^8 - 15*x^7 + 108*x^6 - 270*x^5 + 270*x^4 + 405*x^3 - 972*x^2 + 729,\n",
      "0 == x^12 + 18*x^11 + 135*x^10 - 3834*x^9 + 18711*x^8 - 22599*x^7 - 14580*x^6 + 2187*x^5 + 37179*x^4 + 85293*x^3 - 98415*x^2 - 59049*x + 59049\n",
      "]\n"
     ]
    },
    {
     "name": "stdout",
     "output_type": "stream",
     "text": [
      "[\n",
      "0 == x^8 + 3*x^7 - 9*x^6 - 99*x^5 + 144*x^4 + 297*x^3 - 81*x^2 - 81*x + 81,\n",
      "0 == x^6 - 6*x^5 + 2*x^4 + 25*x^3 + 6*x^2 + 9*x + 27,\n",
      "0 == x^10 - 4*x^9 + 25*x^8 + 3*x^7 - 269*x^6 - 340*x^5 + 1338*x^4 + 1323*x^3 - 810*x^2 - 486*x + 243,\n",
      "0 == x^6 - 8*x^5 + 9*x^4 + 80*x^3 + 27*x^2 - 72*x + 27\n",
      "]\n",
      "[\n",
      "0 == x^8 - 3*x^7 - 9*x^6 + 99*x^5 + 144*x^4 - 297*x^3 - 81*x^2 + 81*x + 81,\n",
      "0 == x^6 + x^5 + 2*x^4 + 25*x^3 + 6*x^2 - 54*x + 27,\n",
      "0 == x^10 - 6*x^9 - 30*x^8 + 147*x^7 + 446*x^6 - 340*x^5 - 807*x^4 + 27*x^3 + 675*x^2 - 324*x + 243,\n",
      "0 == x^6 - 8*x^5 + 9*x^4 + 80*x^3 + 27*x^2 - 72*x + 27\n",
      "]\n",
      "[\n",
      "0 == x^8 - 12*x^6 + 15*x^5 + 30*x^4 - 90*x^3 + 108*x^2 - 45*x + 9,\n",
      "0 == x^12 - 3*x^11 - 15*x^10 + 39*x^9 + 51*x^8 + 9*x^7 - 180*x^6 - 837*x^5 + 2079*x^4 - 1278*x^3 + 135*x^2 + 54*x + 9\n",
      "]\n"
     ]
    },
    {
     "name": "stdout",
     "output_type": "stream",
     "text": [
      "[\n",
      "0 == x^8 + 3*x^7 - 9*x^6 - 99*x^5 + 144*x^4 + 297*x^3 - 81*x^2 - 81*x + 81,\n",
      "0 == x^6 - x^5 + 2*x^4 - 25*x^3 + 6*x^2 + 54*x + 27,\n",
      "0 == x^10 + 6*x^9 - 30*x^8 - 147*x^7 + 446*x^6 + 340*x^5 - 807*x^4 - 27*x^3 + 675*x^2 + 324*x + 243,\n",
      "0 == x^6 + 8*x^5 + 9*x^4 - 80*x^3 + 27*x^2 + 72*x + 27\n",
      "]\n",
      "[\n",
      "0 == x^8 - 12*x^6 - 15*x^5 + 30*x^4 + 90*x^3 + 108*x^2 + 45*x + 9,\n",
      "0 == x^12 + 3*x^11 - 15*x^10 - 39*x^9 + 51*x^8 - 9*x^7 - 180*x^6 + 837*x^5 + 2079*x^4 + 1278*x^3 + 135*x^2 - 54*x + 9\n",
      "]\n",
      "[\n",
      "0 == x^8 + 24*x^7 + 460*x^6 + 1672*x^5 - 458*x^4 - 5016*x^3 + 4140*x^2 - 648*x + 81,\n",
      "0 == x^12 - 28*x^11 + 906*x^10 + 4228*x^9 + 7463*x^8 + 12936*x^7 - 16532*x^6 - 38808*x^5 + 67167*x^4 - 114156*x^3 + 73386*x^2 + 6804*x + 729\n",
      "]\n",
      "[\n",
      "0 == x^12 + 192402*x^10 + 998487*x^8 - 3688740*x^6 + 3212703*x^4 - 511758*x^2 + 59049\n",
      "]\n"
     ]
    },
    {
     "name": "stdout",
     "output_type": "stream",
     "text": [
      "[\n",
      "0 == x^6 + 20*x^5 + 121*x^4 - 200*x^3 + 363*x^2 + 180*x + 27,\n",
      "0 == x^6 + 8*x^5 + 9*x^4 - 80*x^3 + 27*x^2 + 72*x + 27,\n",
      "0 == x^10 - 60*x^9 + 1135*x^8 + 3760*x^7 + 186*x^6 - 32680*x^5 + 558*x^4 + 33840*x^3 + 30645*x^2 - 4860*x + 243\n",
      "]\n",
      "[\n",
      "0 == x^6 - 20*x^5 + 121*x^4 + 200*x^3 + 363*x^2 - 180*x + 27,\n",
      "0 == x^6 - 8*x^5 + 9*x^4 + 80*x^3 + 27*x^2 - 72*x + 27,\n",
      "0 == x^10 + 60*x^9 + 1135*x^8 - 3760*x^7 + 186*x^6 + 32680*x^5 + 558*x^4 - 33840*x^3 + 30645*x^2 + 4860*x + 243\n",
      "]\n",
      "[\n",
      "0 == x^12 - 78*x^10 + 4407*x^8 - 45540*x^6 + 110943*x^4 + 192402*x^2 + 9\n",
      "]\n",
      "[\n",
      "0 == x^8 - 24*x^7 + 460*x^6 - 1672*x^5 - 458*x^4 + 5016*x^3 + 4140*x^2 + 648*x + 81,\n",
      "0 == x^12 + 28*x^11 + 906*x^10 - 4228*x^9 + 7463*x^8 - 12936*x^7 - 16532*x^6 + 38808*x^5 + 67167*x^4 + 114156*x^3 + 73386*x^2 - 6804*x + 729\n",
      "]\n"
     ]
    },
    {
     "name": "stdout",
     "output_type": "stream",
     "text": [
      "[\n",
      "\n",
      "]\n",
      "[\n",
      "0 == x^8 - 80*x^7 - 400*x^6 - 2240*x^5 - 2976*x^4 - 8960*x^3 - 6400*x^2 - 5120*x + 256\n",
      "]\n",
      "[\n",
      "0 == x^8 + 80*x^7 - 400*x^6 + 2240*x^5 - 2976*x^4 + 8960*x^3 - 6400*x^2 + 5120*x + 256\n",
      "]\n",
      "[\n",
      "\n",
      "]\n"
     ]
    },
    {
     "name": "stdout",
     "output_type": "stream",
     "text": [
      "[\n",
      "\n",
      "]\n",
      "[\n",
      "\n",
      "]\n",
      "[\n",
      "0 == x^12 + 68*x^10 + 2288*x^8 + 12992*x^6 + 13312*x^4 + 32768*x^2 + 262144,\n",
      "0 == x^12 - 108*x^10 + 5808*x^8 + 27072*x^6 - 43008*x^4 - 147456*x^2 + 262144\n",
      "]\n",
      "[\n",
      "0 == x^12 + 2*x^10 + 13*x^8 + 203*x^6 + 572*x^4 + 272*x^2 + 64,\n",
      "0 == x^12 - 9*x^10 - 42*x^8 + 423*x^6 + 1452*x^4 - 432*x^2 + 64\n",
      "]\n"
     ]
    },
    {
     "name": "stdout",
     "output_type": "stream",
     "text": [
      "[\n",
      "0 == x^16 + 192480*x^14 + 15237568*x^12 + 265351680*x^10 + 1659913728*x^8 + 4245626880*x^6 + 3900817408*x^4 + 788398080*x^2 + 65536\n",
      "]\n",
      "[\n",
      "0 == x^8 - 24*x^7 + 288*x^6 + 2016*x^5 + 6368*x^4 + 8064*x^3 + 4608*x^2 - 1536*x + 256\n",
      "]\n",
      "[\n",
      "0 == x^12 - 108*x^11 + 5832*x^10 + 24912*x^9 + 50160*x^8 + 160128*x^7 + 476928*x^6 + 640512*x^5 + 802560*x^4 + 1594368*x^3 + 1492992*x^2 - 110592*x + 4096,\n",
      "0 == x^12 + 68*x^11 + 2312*x^10 + 14352*x^9 + 50160*x^8 + 199552*x^7 + 589568*x^6 + 798208*x^5 + 802560*x^4 + 918528*x^3 + 591872*x^2 + 69632*x + 4096\n",
      "]\n"
     ]
    },
    {
     "name": "stdout",
     "output_type": "stream",
     "text": [
      "[\n",
      "0 == x^6 - 14*x^5 + 44*x^4 + 120*x^3 + 256*x^2 + 640*x + 512,\n",
      "0 == x^6 + 5*x^5 + 8*x^4 + 15*x^3 + 22*x^2 - 28*x + 8,\n",
      "0 == x^6 - 2*x^5 + 36*x^4 + 104*x^3 + 288*x^2 + 512*x + 512,\n",
      "0 == x^6 + 4*x^5 + 9*x^4 + 13*x^3 + 18*x^2 - 4*x + 8\n",
      "]\n",
      "[\n",
      "0 == x^8 + 12*x^7 + 168*x^6 + 480*x^5 + 848*x^4 + 1728*x^3 + 1536*x^2 + 4096,\n",
      "0 == x^8 - 12*x^7 + 312*x^6 + 672*x^5 + 848*x^4 + 2112*x^3 - 768*x^2 - 3072*x + 4096,\n",
      "0 == x^8 - 40*x^7 + 440*x^6 + 800*x^5 + 784*x^4 + 2560*x^3 - 2560*x^2 - 5120*x + 4096\n",
      "]\n"
     ]
    },
    {
     "name": "stdout",
     "output_type": "stream",
     "text": [
      "[\n",
      "0 == x^8 - 3*x^7 - 3*x^6 + 33*x^5 + 53*x^4 + 168*x^3 + 312*x^2 - 48*x + 16,\n",
      "0 == x^8 + 6*x^6 + 27*x^5 + 53*x^4 + 120*x^3 + 168*x^2 + 48*x + 16,\n",
      "0 == x^8 - 5*x^7 - 10*x^6 + 40*x^5 + 49*x^4 + 200*x^3 + 440*x^2 - 160*x + 16\n",
      "]\n",
      "[\n",
      "0 == x^8 + 24*x^7 + 288*x^6 - 2016*x^5 + 6368*x^4 - 8064*x^3 + 4608*x^2 + 1536*x + 256\n",
      "]\n"
     ]
    },
    {
     "name": "stdout",
     "output_type": "stream",
     "text": [
      "[\n",
      "0 == x^12 + 108*x^11 + 5832*x^10 - 24912*x^9 + 50160*x^8 - 160128*x^7 + 476928*x^6 - 640512*x^5 + 802560*x^4 - 1594368*x^3 + 1492992*x^2 + 110592*x + 4096,\n",
      "0 == x^12 - 68*x^11 + 2312*x^10 - 14352*x^9 + 50160*x^8 - 199552*x^7 + 589568*x^6 - 798208*x^5 + 802560*x^4 - 918528*x^3 + 591872*x^2 - 69632*x + 4096\n",
      "]\n",
      "[\n",
      "0 == x^6 + 14*x^5 + 44*x^4 - 120*x^3 + 256*x^2 - 640*x + 512,\n",
      "0 == x^6 - 5*x^5 + 8*x^4 - 15*x^3 + 22*x^2 + 28*x + 8,\n",
      "0 == x^6 + 2*x^5 + 36*x^4 - 104*x^3 + 288*x^2 - 512*x + 512,\n",
      "0 == x^6 - 4*x^5 + 9*x^4 - 13*x^3 + 18*x^2 + 4*x + 8\n",
      "]\n",
      "[\n",
      "0 == x^8 - 12*x^7 + 168*x^6 - 480*x^5 + 848*x^4 - 1728*x^3 + 1536*x^2 + 4096,\n",
      "0 == x^8 + 12*x^7 + 312*x^6 - 672*x^5 + 848*x^4 - 2112*x^3 - 768*x^2 + 3072*x + 4096,\n",
      "0 == x^8 + 40*x^7 + 440*x^6 - 800*x^5 + 784*x^4 - 2560*x^3 - 2560*x^2 + 5120*x + 4096\n",
      "]\n"
     ]
    },
    {
     "name": "stdout",
     "output_type": "stream",
     "text": [
      "[\n",
      "0 == x^8 + 3*x^7 - 3*x^6 - 33*x^5 + 53*x^4 - 168*x^3 + 312*x^2 + 48*x + 16,\n",
      "0 == x^8 + 6*x^6 - 27*x^5 + 53*x^4 - 120*x^3 + 168*x^2 - 48*x + 16,\n",
      "0 == x^8 + 5*x^7 - 10*x^6 - 40*x^5 + 49*x^4 - 200*x^3 + 440*x^2 + 160*x + 16\n",
      "]\n",
      "[\n",
      "\n",
      "]\n",
      "[\n",
      "\n",
      "]\n"
     ]
    },
    {
     "name": "stdout",
     "output_type": "stream",
     "text": [
      "[\n",
      "\n",
      "]\n",
      "[\n",
      "\n",
      "]\n"
     ]
    },
    {
     "name": "stdout",
     "output_type": "stream",
     "text": [
      "[\n",
      "\n",
      "]\n",
      "[\n",
      "0 == x^12 - 68*x^10 + 2288*x^8 - 12992*x^6 + 13312*x^4 - 32768*x^2 + 262144,\n",
      "0 == x^12 + 108*x^10 + 5808*x^8 - 27072*x^6 - 43008*x^4 + 147456*x^2 + 262144\n",
      "]\n",
      "[\n",
      "0 == x^12 - 2*x^10 + 13*x^8 - 203*x^6 + 572*x^4 - 272*x^2 + 64,\n",
      "0 == x^12 + 9*x^10 - 42*x^8 - 423*x^6 + 1452*x^4 + 432*x^2 + 64\n",
      "]\n",
      "[\n",
      "\n",
      "]\n",
      "[\n",
      "\n",
      "]\n"
     ]
    },
    {
     "name": "stdout",
     "output_type": "stream",
     "text": [
      "[\n",
      "\n",
      "]\n",
      "[\n",
      "0 == x^6 - 84*x^5 - 84*x^4 - 232*x^3 + 168*x^2 - 336*x - 8,\n",
      "0 == x^24 + 15*x^23 + 4200*x^22 + 61604*x^21 + 523455*x^20 + 2149890*x^19 + 8158204*x^18 + 16956180*x^17 + 43023330*x^16 + 47455607*x^15 + 122200500*x^14 + 44228280*x^13 + 268659511*x^12 - 88456560*x^11 + 488802000*x^10 - 379644856*x^9 + 688373280*x^8 - 542597760*x^7 + 522125056*x^6 - 275185920*x^5 + 134004480*x^4 - 31541248*x^3 + 4300800*x^2 - 30720*x + 4096,\n",
      "0 == x^6 + 24*x^5 + 24*x^4 + 92*x^3 - 48*x^2 + 96*x - 8\n",
      "]\n",
      "[\n",
      "0 == x^8 + 20*x^7 + 388*x^6 + 272*x^5 + 472*x^4 + 128*x^3 + 352*x^2 + 128*x + 64,\n",
      "0 == x^6 - 36*x^5 - 60*x^4 - 40*x^3 - 96*x - 32,\n",
      "0 == x^6 + 2*x^5 + 12*x^4 + 8*x^3 + 8*x^2 + 16,\n",
      "0 == x^12 - 30*x^11 + 972*x^10 + 2176*x^9 + 4824*x^8 + 7776*x^7 + 8736*x^6 - 1440*x^5 + 15552*x^4 + 256*x^3 - 1920*x^2 + 256\n",
      "]\n"
     ]
    },
    {
     "name": "stdout",
     "output_type": "stream",
     "text": [
      "[\n",
      "0 == x^12 - 15*x^11 + 30*x^10 + 688*x^9 + 1737*x^8 + 2061*x^7 + 3381*x^6 - 4500*x^5 + 7920*x^4 - 1616*x^3 + 2496*x^2 - 672*x + 64,\n",
      "0 == x^8 - 10*x^7 + 106*x^6 + 20*x^5 + 232*x^4 - 40*x^3 + 424*x^2 + 80*x + 16,\n",
      "0 == x^12 + 3*x^11 + 66*x^10 + 175*x^9 + 495*x^8 + 198*x^7 + 1383*x^6 - 396*x^5 + 1980*x^4 - 1400*x^3 + 1056*x^2 - 96*x + 64,\n",
      "0 == x^6 + x^5 + 6*x^4 - 3*x^3 + 10*x^2 + 8,\n",
      "0 == x^6 - 12*x^5 - 12*x^4 - 16*x^3 + 24*x^2 - 48*x - 8\n",
      "]\n",
      "[\n",
      "0 == x^8 + 24*x^6 + 32*x^5 + 88*x^4 + 64*x^3 + 64*x^2 + 64*x + 64,\n",
      "0 == x^8 - 8*x^7 + 24*x^6 + 96*x^5 + 272*x^4 + 128*x^3 + 128*x^2 + 256*x + 128,\n",
      "0 == x^6 + 2*x^5 + 12*x^4 + 8*x^3 + 8*x^2 + 16,\n",
      "0 == x^6 - 6*x^5 + 36*x^4 + 8*x^3 - 24*x^2 + 16,\n",
      "0 == x^12 - 12*x^11 + 28*x^10 + 64*x^9 + 432*x^8 + 224*x^7 + 288*x^6 - 576*x^5 + 448*x^4 + 256*x^3 - 768*x^2 + 256\n",
      "]\n"
     ]
    },
    {
     "name": "stdout",
     "output_type": "stream",
     "text": [
      "[\n",
      "0 == x^8 - 4*x^7 + 8*x^6 + 52*x^4 + 32*x^2 + 32*x + 16,\n",
      "0 == x^8 - 4*x^7 - 2*x^6 + 29*x^5 + 37*x^4 + 14*x^3 + 28*x^2 - 40*x + 16,\n",
      "0 == x^8 - 6*x^7 + 6*x^6 + 4*x^5 + 72*x^4 - 8*x^3 + 24*x^2 + 48*x + 16,\n",
      "0 == x^6 + 5*x^4 + 3*x^3 + 12*x^2 - 4*x + 8,\n",
      "0 == x^10 - x^9 + 3*x^8 + 12*x^7 + 49*x^6 + 35*x^5 + 28*x^4 - 8*x^3 + 104*x^2 - 64*x + 32,\n",
      "0 == x^14 - 4*x^13 - 9*x^12 + 5*x^11 + 81*x^10 + 236*x^9 + 214*x^8 + 289*x^7 + 270*x^6 + 180*x^5 + 448*x^4 - 576*x^3 + 672*x^2 - 512*x + 128\n",
      "]\n",
      "[\n",
      "0 == x^12 + 3*x^11 + 66*x^10 + 175*x^9 + 495*x^8 + 198*x^7 + 1383*x^6 - 396*x^5 + 1980*x^4 - 1400*x^3 + 1056*x^2 - 96*x + 64,\n",
      "0 == x^8 - 10*x^7 + 106*x^6 + 20*x^5 + 232*x^4 - 40*x^3 + 424*x^2 + 80*x + 16,\n",
      "0 == x^12 + 21*x^11 + 156*x^10 + 202*x^9 + 1980*x^8 + 2250*x^7 + 3381*x^6 - 4122*x^5 + 6948*x^4 - 5504*x^3 + 480*x^2 + 480*x + 64,\n",
      "0 == x^6 + 5*x^4 + 3*x^3 + 12*x^2 - 4*x + 8,\n",
      "0 == x^6 - 12*x^5 - 12*x^4 - 16*x^3 + 24*x^2 - 48*x - 8\n",
      "]\n"
     ]
    },
    {
     "name": "stdout",
     "output_type": "stream",
     "text": [
      "[\n",
      "0 == x^8 - 4*x^7 + 22*x^6 - 16*x^5 + 118*x^4 - 136*x^3 + 388*x^2 - 40*x + 4,\n",
      "0 == x^6 - 6*x^5 - 10*x^3 + 30*x^2 - 36*x - 2,\n",
      "0 == x^12 - 30*x^10 - 8*x^9 + 972*x^8 + 180*x^7 + 2184*x^6 - 3888*x^5 + 4824*x^4 - 4352*x^3 + 3888*x^2 + 240*x + 16,\n",
      "0 == x^6 + 2*x^4 - 4*x^3 + 12*x^2 - 4*x + 4\n",
      "]\n",
      "[\n",
      "0 == x^8 - 6*x^7 + 6*x^6 + 4*x^5 + 72*x^4 - 8*x^3 + 24*x^2 + 48*x + 16,\n",
      "0 == x^8 + 5*x^7 + 7*x^6 - 7*x^5 + 37*x^4 - 58*x^3 - 8*x^2 + 32*x + 16,\n",
      "0 == x^8 - 4*x^7 + 8*x^6 + 52*x^4 + 32*x^2 + 32*x + 16,\n",
      "0 == x^6 + x^5 + 6*x^4 - 3*x^3 + 10*x^2 + 8,\n",
      "0 == x^14 + 8*x^13 + 21*x^12 + 36*x^11 + 56*x^10 - 45*x^9 + 135*x^8 - 289*x^7 + 428*x^6 - 944*x^5 + 648*x^4 - 80*x^3 - 288*x^2 + 256*x + 128,\n",
      "0 == x^10 + 4*x^9 + 13*x^8 + 2*x^7 + 14*x^6 - 35*x^5 + 98*x^4 - 48*x^3 + 24*x^2 + 16*x + 32\n",
      "]\n",
      "[\n",
      "0 == x^8 - 4*x^7 + 4*x^6 - 8*x^5 + 34*x^4 - 24*x^3 + 12*x^2 + 8*x + 2,\n",
      "0 == x^8 - 2*x^7 + 4*x^6 - 8*x^5 + 22*x^4 - 16*x^3 + 24*x^2 + 4,\n",
      "0 == x^6 + 2*x^4 - 4*x^3 + 12*x^2 - 4*x + 4,\n",
      "0 == x^6 - 6*x^4 - 4*x^3 + 36*x^2 + 12*x + 4,\n",
      "0 == x^12 - 12*x^10 - 8*x^9 + 28*x^8 + 72*x^7 + 72*x^6 - 112*x^5 + 432*x^4 - 128*x^3 + 112*x^2 + 96*x + 16\n",
      "]\n",
      "[\n",
      "0 == x^24 - x^21 + 4069*x^18 + 20117*x^15 + 122551*x^12 - 160936*x^9 + 260416*x^6 + 512*x^3 + 4096\n",
      "]\n"
     ]
    },
    {
     "name": "stdout",
     "output_type": "stream",
     "text": [
      "[\n",
      "0 == x^18 - 40*x^15 + 1200*x^12 - 1792*x^9 - 256*x^6 + 6144*x^3 + 4096\n",
      "]\n",
      "[\n",
      "0 == x^18 - 26*x^15 + 171*x^12 + 525*x^9 - 32*x^6 - 576*x^3 + 512\n",
      "]\n"
     ]
    },
    {
     "name": "stdout",
     "output_type": "stream",
     "text": [
      "[\n",
      "0 == x^18 + 9*x^15 - 4*x^12 - 525*x^9 + 1368*x^6 + 1664*x^3 + 512\n",
      "]\n",
      "[\n",
      "0 == x^18 - 12*x^15 - 4*x^12 + 224*x^9 + 1200*x^6 + 320*x^3 + 64\n",
      "]\n",
      "[\n",
      "0 == x^24 - 16*x^21 + 64*x^18 + 47*x^15 - 329*x^12 - 376*x^9 + 4096*x^6 + 8192*x^3 + 4096\n",
      "]\n"
     ]
    },
    {
     "name": "stdout",
     "output_type": "stream",
     "text": [
      "[\n",
      "0 == x^10 - 10*x^9 - 80*x^8 - 370*x^7 - 1415*x^6 - 3252*x^5 - 8540*x^4 - 11870*x^3 - 20955*x^2 - 16510*x - 15124,\n",
      "0 == x^8 - 8*x^7 + 168*x^6 - 146*x^5 + 1695*x^4 - 206*x^3 + 5778*x^2 + 802*x + 7541,\n",
      "0 == x^8 - 23*x^7 + 198*x^6 + 289*x^5 + 1470*x^4 + 2269*x^3 + 4593*x^2 + 3772*x + 3056,\n",
      "0 == x^8 + 7*x^7 + 88*x^6 + 219*x^5 + 920*x^4 + 1819*x^3 + 3463*x^2 + 4132*x + 4976\n",
      "]\n",
      "[\n",
      "0 == x^8 - 4*x^7 + 8*x^6 - 28*x^5 + 49*x^4 - 32*x^3 + 218*x^2 + 76*x + 337,\n",
      "0 == x^8 - 2*x^7 + 4*x^6 - 2*x^5 + 21*x^4 + 50*x^3 + 148*x^2 + 212*x + 193\n",
      "]\n"
     ]
    },
    {
     "name": "stdout",
     "output_type": "stream",
     "text": [
      "[\n",
      "0 == x^5 + 5*x^3 + 5*x + 5*sqrt(5) - 11,\n",
      "0 == x^5 + 5*x^3 + 5*x - 5*sqrt(5) - 11,\n",
      "0 == x^8 - 2*x^7 + 12*x^6 - 20*x^5 + 51*x^4 - 80*x^3 + 108*x^2 - 146*x + 101,\n",
      "0 == x^8 - x^7 + 8*x^6 - 5*x^5 + 16*x^4 - 5*x^3 + 7*x^2 - 12*x + 16,\n",
      "0 == x^8 + x^7 + 6*x^6 + x^5 + 6*x^4 - 35*x^3 - 15*x^2 - 20*x + 80\n",
      "]\n"
     ]
    }
   ],
   "source": [
    "print(solve(J51(x)==J52(x),x))\n",
    "print(solve(J81(x)==J82(x),x))\n",
    "print(solve(J81(x)==J83(x),x))\n",
    "print(solve(J81(x)==J84(x),x))\n",
    "print(solve(J81(x)==J85(x),x))\n",
    "print(solve(J81(x)==J86(x),x))\n",
    "print(solve(J82(x)==J83(x),x))\n",
    "print(solve(J82(x)==J84(x),x))\n",
    "print(solve(J82(x)==J85(x),x))\n",
    "print(solve(J82(x)==J86(x),x))\n",
    "print(solve(J83(x)==J84(x),x))\n",
    "print(solve(J83(x)==J85(x),x))\n",
    "print(solve(J83(x)==J86(x),x))\n",
    "print(solve(J84(x)==J85(x),x))\n",
    "print(solve(J84(x)==J86(x),x))\n",
    "print(solve(J85(x)==J86(x),x))\n",
    "print(solve(J101(x)==J102(x),x))\n",
    "print(solve(J101(x)==J103(x),x))\n",
    "print(solve(J101(x)==J104(x),x))\n",
    "print(solve(J102(x)==J103(x),x))\n",
    "print(solve(J102(x)==J104(x),x))\n",
    "print(solve(J103(x)==J104(x),x))\n",
    "print(solve(J121(x)==J122(x),x))\n",
    "print(solve(J121(x)==J123(x),x))\n",
    "print(solve(J121(x)==J124(x),x))\n",
    "print(solve(J121(x)==J125(x),x))\n",
    "print(solve(J121(x)==J126(x),x))\n",
    "print(solve(J121(x)==J127(x),x))\n",
    "print(solve(J121(x)==J128(x),x))\n",
    "print(solve(J122(x)==J123(x),x))\n",
    "print(solve(J122(x)==J124(x),x))\n",
    "print(solve(J122(x)==J125(x),x))\n",
    "print(solve(J122(x)==J126(x),x))\n",
    "print(solve(J122(x)==J127(x),x))\n",
    "print(solve(J122(x)==J128(x),x))\n",
    "print(solve(J123(x)==J124(x),x))\n",
    "print(solve(J123(x)==J125(x),x))\n",
    "print(solve(J123(x)==J126(x),x))\n",
    "print(solve(J123(x)==J127(x),x))\n",
    "print(solve(J123(x)==J128(x),x))\n",
    "print(solve(J124(x)==J125(x),x))\n",
    "print(solve(J124(x)==J126(x),x))\n",
    "print(solve(J124(x)==J127(x),x))\n",
    "print(solve(J124(x)==J128(x),x))\n",
    "print(solve(J125(x)==J126(x),x))\n",
    "print(solve(J125(x)==J127(x),x))\n",
    "print(solve(J125(x)==J128(x),x))\n",
    "print(solve(J126(x)==J127(x),x))\n",
    "print(solve(J126(x)==J128(x),x))\n",
    "print(solve(J127(x)==J128(x),x))\n",
    "print(solve(J131(x)==J132(x),x))\n",
    "print(solve(J161(x)==J162(x),x))\n",
    "print(solve(J161(x)==J163(x),x))\n",
    "print(solve(J161(x)==J164(x),x))\n",
    "print(solve(J161(x)==J165(x),x))\n",
    "print(solve(J161(x)==J166(x),x))\n",
    "print(solve(J161(x)==J167(x),x))\n",
    "print(solve(J161(x)==J168(x),x))\n",
    "print(solve(J162(x)==J163(x),x))\n",
    "print(solve(J162(x)==J164(x),x))\n",
    "print(solve(J162(x)==J165(x),x))\n",
    "print(solve(J162(x)==J166(x),x))\n",
    "print(solve(J162(x)==J167(x),x))\n",
    "print(solve(J162(x)==J168(x),x))\n",
    "print(solve(J163(x)==J164(x),x))\n",
    "print(solve(J163(x)==J165(x),x))\n",
    "print(solve(J163(x)==J166(x),x))\n",
    "print(solve(J163(x)==J167(x),x))\n",
    "print(solve(J163(x)==J168(x),x))\n",
    "print(solve(J164(x)==J165(x),x))\n",
    "print(solve(J164(x)==J166(x),x))\n",
    "print(solve(J164(x)==J167(x),x))\n",
    "print(solve(J164(x)==J168(x),x))\n",
    "print(solve(J165(x)==J166(x),x))\n",
    "print(solve(J165(x)==J167(x),x))\n",
    "print(solve(J165(x)==J168(x),x))\n",
    "print(solve(J166(x)==J167(x),x))\n",
    "print(solve(J166(x)==J168(x),x))\n",
    "print(solve(J167(x)==J168(x),x))\n",
    "print(solve(J181(x)==J182(x),x))\n",
    "print(solve(J181(x)==J183(x),x))\n",
    "print(solve(J181(x)==J184(x),x))\n",
    "print(solve(J181(x)==J185(x),x))\n",
    "print(solve(J181(x)==J186(x),x))\n",
    "print(solve(J182(x)==J183(x),x))\n",
    "print(solve(J182(x)==J184(x),x))\n",
    "print(solve(J182(x)==J185(x),x))\n",
    "print(solve(J182(x)==J186(x),x))\n",
    "print(solve(J183(x)==J184(x),x))\n",
    "print(solve(J183(x)==J185(x),x))\n",
    "print(solve(J183(x)==J186(x),x))\n",
    "print(solve(J184(x)==J185(x),x))\n",
    "print(solve(J184(x)==J186(x),x))\n",
    "print(solve(J185(x)==J186(x),x))\n",
    "print(solve(J251(x)==J252(x),x))\n",
    "print(solve(J251(x)==J253(x),x))\n",
    "print(solve(J252(x)==J253(x),x))"
   ]
  },
  {
   "cell_type": "code",
   "execution_count": 0,
   "metadata": {
    "collapsed": false
   },
   "outputs": [
   ],
   "source": [
   ]
  }
 ],
 "metadata": {
  "kernelspec": {
   "display_name": "SageMath 9.1",
   "language": "sagemath",
   "metadata": {
    "cocalc": {
     "description": "Open-source mathematical software system",
     "priority": 10,
     "url": "https://www.sagemath.org/"
    }
   },
   "name": "sage-9.1",
   "resource_dir": "/ext/jupyter/kernels/sage-9.1"
  },
  "language_info": {
   "codemirror_mode": {
    "name": "ipython",
    "version": 3
   },
   "file_extension": ".py",
   "mimetype": "text/x-python",
   "name": "python",
   "nbconvert_exporter": "python",
   "pygments_lexer": "ipython3",
   "version": "3.7.3"
  }
 },
 "nbformat": 4,
 "nbformat_minor": 4
}