{
 "cells": [
  {
   "cell_type": "code",
   "execution_count": 1,
   "metadata": {
    "collapsed": false
   },
   "outputs": [
   ],
   "source": [
    "load('models.sage')\n",
    "load('Isogenies_for_calC.sage')"
   ]
  },
  {
   "cell_type": "code",
   "execution_count": 2,
   "metadata": {
    "collapsed": false
   },
   "outputs": [
   ],
   "source": [
    "from sage.schemes.elliptic_curves.weierstrass_morphism import *\n",
    "R1.<t,d> = QQ[]\n",
    "R=R1.fraction_field()\n",
    "S1.<t,x,d> = QQ[]\n",
    "S=S1.fraction_field()"
   ]
  },
  {
   "cell_type": "markdown",
   "metadata": {
    "collapsed": false
   },
   "source": [
    "The code below verifies Proposition 3.1 (i):"
   ]
  },
  {
   "cell_type": "code",
   "execution_count": 3,
   "metadata": {
    "collapsed": false
   },
   "outputs": [
    {
     "name": "stdout",
     "output_type": "stream",
     "text": [
      "True\n",
      "True\n",
      "True\n",
      "True\n",
      "True\n",
      "True\n",
      "True\n",
      "True\n",
      "True\n",
      "True\n",
      "True\n",
      "True\n",
      "True\n",
      "True\n",
      "True\n",
      "True\n",
      "True\n",
      "True\n",
      "True\n",
      "True\n",
      "True\n",
      "True\n",
      "True\n",
      "True\n",
      "True\n",
      "True\n",
      "True\n",
      "True\n"
     ]
    }
   ],
   "source": [
    "print(S(calC2_1(t,d).j_invariant())==S(j2_1(t)))\n",
    "print(S(calC2_2(t,d).j_invariant())==S(j2_2(t)))\n",
    "print(S(calC3_1(t,d).j_invariant())==S(j3_1(t)))\n",
    "print(S(calC3_2(t,d).j_invariant())==S(j3_2(t)))\n",
    "print(S(calC4_4(t,d).j_invariant())==S(j4_1(t)))\n",
    "print(S(calC4_2(t,d).j_invariant())==S(j4_2(t)))\n",
    "print(S(calC5_1(t,d).j_invariant())==S(j5_1(t)))\n",
    "print(S(calC5_2(t,d).j_invariant())==S(j5_2(t)))\n",
    "print(S(calC6_1(t,d).j_invariant())==S(j6_1(t)))\n",
    "print(S(calC6_4(t,d).j_invariant())==S(j6_2(t)))\n",
    "print(S(calC7_1(t,d).j_invariant())==S(j7_1(t)))\n",
    "print(S(calC7_2(t,d).j_invariant())==S(j7_2(t)))\n",
    "print(S(calC8_3(t,d).j_invariant())==S(j8_1(t)))\n",
    "print(S(calC8_6(t,d).j_invariant())==S(j8_2(t)))\n",
    "print(S(calC9_1(t,d).j_invariant())==S(j9_1(t)))\n",
    "print(S(calC9_3(t,d).j_invariant())==S(j9_2(t)))\n",
    "print(S(calC10_1(t,d).j_invariant())==S(j10_1(t)))\n",
    "print(S(calC10_4(t,d).j_invariant())==S(j10_2(t)))\n",
    "print(S(calC12_5(t,d).j_invariant())==S(j12_1(t)))\n",
    "print(S(calC12_4(t,d).j_invariant())==S(j12_2(t)))\n",
    "print(S(calC13_1(t,d).j_invariant())==S(j13_1(t)))\n",
    "print(S(calC13_2(t,d).j_invariant())==S(j13_2(t)))\n",
    "print(S(calC16_2(t,d).j_invariant())==S(j16_1(t)))\n",
    "print(S(calC16_8(t,d).j_invariant())==S(j16_2(t)))\n",
    "print(S(calC18_1(t,d).j_invariant())==S(j18_1(t)))\n",
    "print(S(calC18_6(t,d).j_invariant())==S(j18_2(t)))\n",
    "print(S(calC25_1(t,d).j_invariant())==S(j25_1(t)))\n",
    "print(S(calC25_3(t,d).j_invariant())==S(j25_2(t)))"
   ]
  },
  {
   "cell_type": "markdown",
   "metadata": {
    "collapsed": false
   },
   "source": [
    "Next, we show that $\\psi_{n,i}:\\mathcal{C}_{n,k}(t,d)\\rightarrow \\mathcal{C}_{n,l}(t,d)$ defined by $\\psi_n(x,y)=(L_{n,i},y\\frac{d}{dx}L_{n,i})$ is a normalized isogeny for each $n$. Observe that $\\psi_{n,i}$ is a normalized isogeny if and only if the following equality holds:\n",
    "\n",
    "$$(x^3+d^2\\mathfrak{A}_{n,k}x+d^3\\mathfrak{B}_{n,k})(\\frac{d}{dx}L_{n,i})^2 = (L_{n,i}^3 + d^2\\mathfrak{A}_{n,l}L_{n,i}+d^3\\mathfrak{B}_{n,l}).$$\n",
    "\n",
    "This is equivalent to Ver$(\\mathcal{C}_{n,k},\\mathcal{C}_{n,l},L_{n,i})=0$, which is shown below."
   ]
  },
  {
   "cell_type": "code",
   "execution_count": 4,
   "metadata": {
    "collapsed": false
   },
   "outputs": [
    {
     "name": "stdout",
     "output_type": "stream",
     "text": [
      "0\n",
      "0\n"
     ]
    },
    {
     "name": "stdout",
     "output_type": "stream",
     "text": [
      "0\n",
      "0\n",
      "0\n"
     ]
    },
    {
     "name": "stdout",
     "output_type": "stream",
     "text": [
      "0\n",
      "0\n"
     ]
    },
    {
     "name": "stdout",
     "output_type": "stream",
     "text": [
      "0\n",
      "0\n"
     ]
    },
    {
     "name": "stdout",
     "output_type": "stream",
     "text": [
      "0\n",
      "0\n",
      "0\n",
      "0\n"
     ]
    },
    {
     "name": "stdout",
     "output_type": "stream",
     "text": [
      "0\n",
      "0\n",
      "0\n"
     ]
    },
    {
     "name": "stdout",
     "output_type": "stream",
     "text": [
      "0\n",
      "0\n"
     ]
    },
    {
     "name": "stdout",
     "output_type": "stream",
     "text": [
      "0\n",
      "0\n"
     ]
    },
    {
     "name": "stdout",
     "output_type": "stream",
     "text": [
      "0\n",
      "0\n"
     ]
    },
    {
     "name": "stdout",
     "output_type": "stream",
     "text": [
      "0\n"
     ]
    },
    {
     "name": "stdout",
     "output_type": "stream",
     "text": [
      "0\n",
      "0\n"
     ]
    },
    {
     "name": "stdout",
     "output_type": "stream",
     "text": [
      "0\n"
     ]
    },
    {
     "name": "stdout",
     "output_type": "stream",
     "text": [
      "0\n",
      "0\n",
      "0\n"
     ]
    },
    {
     "name": "stdout",
     "output_type": "stream",
     "text": [
      "0\n",
      "0\n"
     ]
    },
    {
     "name": "stdout",
     "output_type": "stream",
     "text": [
      "0\n",
      "0\n",
      "0\n"
     ]
    },
    {
     "name": "stdout",
     "output_type": "stream",
     "text": [
      "0\n",
      "0\n",
      "0\n",
      "0\n"
     ]
    },
    {
     "name": "stdout",
     "output_type": "stream",
     "text": [
      "0\n"
     ]
    },
    {
     "name": "stdout",
     "output_type": "stream",
     "text": [
      "0\n"
     ]
    },
    {
     "name": "stdout",
     "output_type": "stream",
     "text": [
      "0\n",
      "0\n"
     ]
    },
    {
     "name": "stdout",
     "output_type": "stream",
     "text": [
      "0\n",
      "0\n"
     ]
    },
    {
     "name": "stdout",
     "output_type": "stream",
     "text": [
      "0\n"
     ]
    },
    {
     "name": "stdout",
     "output_type": "stream",
     "text": [
      "0\n"
     ]
    },
    {
     "name": "stdout",
     "output_type": "stream",
     "text": [
      "0\n"
     ]
    }
   ],
   "source": [
    "print(Ver(calC2_1(t,d),calC2_2(t,d),L2_1(x,t,d)))\n",
    "print(Ver(calC3_1(t,d),calC3_2(t,d),L3_1(x,t,d)))\n",
    "print(Ver(calC4_1(t,d),calC4_2(t,d),L4_1(x,t,d)))\n",
    "print(Ver(calC4_1(t,d),calC4_3(t,d),L4_2(x,t,d)))\n",
    "print(Ver(calC4_4(t,d),calC4_1(t,d),L4_3(x,t,d)))\n",
    "print(Ver(calC5_1(t,d),calC5_2(t,d),L5_1(x,t,d)))\n",
    "print(Ver(calC6_1(t,d),calC6_2(t,d),L6_1(x,t,d)))\n",
    "print(Ver(calC6_1(t,d),calC6_3(t,d),L6_2(x,t,d)))\n",
    "print(Ver(calC6_3(t,d),calC6_4(t,d),L6_3(x,t,d)))\n",
    "print(Ver(calC6_2(t,d),calC6_4(t,d),L6_4(x,t,d)))\n",
    "print(Ver(calC8_1(t,d),calC8_2(t,d),L8_1(x,t,d)))\n",
    "print(Ver(calC8_3(t,d),calC8_1(t,d),L8_2(x,t,d)))\n",
    "print(Ver(calC8_1(t,d),calC8_4(t,d),L8_3(x,t,d)))\n",
    "print(Ver(calC8_4(t,d),calC8_5(t,d),L8_4(x,t,d)))\n",
    "print(Ver(calC8_4(t,d),calC8_6(t,d),L8_5(x,t,d)))\n",
    "print(Ver(calC9_1(t,d),calC9_2(t,d),L9_1(x,t,d)))\n",
    "print(Ver(calC9_2(t,d),calC9_3(t,d),L9_2(x,t,d)))\n",
    "print(Ver(calC10_1(t,d),calC10_2(t,d),L10_1(x,t,d)))\n",
    "print(Ver(calC10_1(t,d),calC10_3(t,d),L10_2(x,t,d)))\n",
    "print(Ver(calC10_3(t,d),calC10_4(t,d),L10_3(x,t,d)))\n",
    "print(Ver(calC10_2(t,d),calC10_4(t,d),L10_4(x,t,d)))\n",
    "print(Ver(calC12_1(t,d),calC12_2(t,d),L12_1(x,t,d)))\n",
    "print(Ver(calC12_8(t,d),calC12_2(t,d).change_weierstrass_model(1/2,0,0,0),L12_2(x,t,d)))\n",
    "print(Ver(calC12_7(t,d),calC12_8(t,d),L12_3(x,t,d)))\n",
    "print(Ver(calC12_1(t,d),calC12_7(t,d),L12_4(x,t,d)))\n",
    "print(Ver(calC12_5(t,d),calC12_1(t,d),L12_5(x,t,d)))\n",
    "print(Ver(calC12_5(t,d),calC12_6(t,d),L12_6(x,t,d)))\n",
    "print(Ver(calC12_6(t,d),calC12_2(t,d),L12_7(x,t,d)))\n",
    "print(Ver(calC12_2(t,d),calC12_4(t,d),L12_8(x,t,d)))\n",
    "print(Ver(calC12_3(t,d),calC12_4(t,d),L12_9(x,t,d)))\n",
    "print(Ver(calC12_1(t,d),calC12_3(t,d),L12_10(x,t,d)))\n",
    "print(Ver(calC16_1(t,d),calC16_3(t,d),L16_1(x,t,d)))\n",
    "print(Ver(calC16_2(t,d),calC16_1(t,d),L16_2(x,t,d)))\n",
    "print(Ver(calC16_1(t,d),calC16_4(t,d),L16_3(x,t,d)))\n",
    "print(Ver(calC16_4(t,d),calC16_5(t,d),L16_4(x,t,d)))\n",
    "print(Ver(calC16_4(t,d),calC16_6(t,d),L16_5(x,t,d)))\n",
    "print(Ver(calC16_6(t,d),calC16_7(t,d),L16_6(x,t,d)))\n",
    "print(Ver(calC16_6(t,d),calC16_8(t,d),L16_7(x,t,d)))\n",
    "print(Ver(calC18_1(t,d),calC18_3(t,d),L18_1(x,t,d)))\n",
    "print(Ver(calC18_1(t,d),calC18_2(t,d),L18_2(x,t,d)))\n",
    "print(Ver(calC18_2(t,d),calC18_4(t,d),L18_3(x,t,d)))\n",
    "print(Ver(calC18_3(t,d),calC18_4(t,d),L18_4(x,t,d)))\n",
    "print(Ver(calC18_3(t,d),calC18_5(t,d),L18_5(x,t,d)))\n",
    "print(Ver(calC18_5(t,d),calC18_6(t,d),L18_6(x,t,d)))\n",
    "print(Ver(calC18_4(t,d),calC18_6(t,d),L18_7(x,t,d)))\n",
    "print(Ver(calC25_1(t,d),calC25_2(t,d),L25_1(x,t,d)))\n",
    "print(Ver(calC25_2(t,d),calC25_3(t,d),L25_2(x,t,d)))"
   ]
  },
  {
   "cell_type": "markdown",
   "metadata": {
    "collapsed": false
   },
   "source": [
    "Next, we verify Remark 2.2. To this end, let $G_{n,i}=\\ker L_{n,i}$. Then $G_{n,i}$ is a cyclic subgroup of $\\mathcal{C}\n",
    "_{n,k}\\!\\left(  t,d\\right)  \\left(  \\overline{\\mathbb{Q}\\!\\left(  t,d\\right)  }\\right)  $.\n",
    "Let $G_{n,i}^{\\ast}=G_{n,i}\\backslash\\left\\{  \\mathcal{O}\\right\\}  $ where $\\mathcal{O}$\n",
    "is the identity of $G_{n,i}$. For $Q\\in G_{n,i}^{\\ast}$, let $x_{Q}$ denote the\n",
    "$x$-coordinate of $Q$ and define $D_{n,i}=\\prod_{Q\\in G_{n,i}^{\\ast}}\\left(\n",
    "x-x_{Q}\\right)  $. Similarly, let $\\sigma_{n,i}$ be the sum of the abscissas of the\n",
    "points in $G_{n,i}^{\\ast}$. By [MSS06, Proposition 4.1], we have that $L_{n,i},\\ D_{n,i},$\n",
    "and $\\sigma_{n,i}$ satisfy the following equation:\n",
    "$$L_{n,i}=nx-\\sigma_{n,i}-\\left(  3x^{2}+\\mathfrak{A}_{n,k}\\right)  \\frac{\\frac{d}{dx}D_{n,i}}\n",
    "{D_{n,i}}-2\\left(  x^{3}+\\mathfrak{A}_{n,k}x+\\mathfrak{B}_{n,k}\\right)  \\frac{d}{dx}\\left(  \\frac{\\frac\n",
    "{d}{dx}D_{n,i}}{D_{n,i}}\\right).  $$\n",
    "\n",
    "Observe that this is equivalent to NorIso$(\\mathcal{C}_{n,k},L_{n,i},\\sigma_n,D_{n,i},n)=0$. The computation below verifies this equality for each $n$."
   ]
  },
  {
   "cell_type": "code",
   "execution_count": 5,
   "metadata": {
    "collapsed": false
   },
   "outputs": [
    {
     "name": "stdout",
     "output_type": "stream",
     "text": [
      "0\n",
      "0\n",
      "0\n",
      "0\n",
      "0\n",
      "0\n",
      "0\n",
      "0\n",
      "0\n",
      "0\n",
      "0\n"
     ]
    },
    {
     "name": "stdout",
     "output_type": "stream",
     "text": [
      "0\n",
      "0\n",
      "0\n",
      "0\n",
      "0\n",
      "0\n",
      "0\n",
      "0\n",
      "0\n",
      "0\n",
      "0\n",
      "0\n"
     ]
    },
    {
     "name": "stdout",
     "output_type": "stream",
     "text": [
      "0\n",
      "0\n",
      "0\n",
      "0\n",
      "0\n",
      "0\n",
      "0\n",
      "0\n"
     ]
    },
    {
     "name": "stdout",
     "output_type": "stream",
     "text": [
      "0\n",
      "0\n",
      "0\n",
      "0\n",
      "0\n",
      "0\n",
      "0\n",
      "0\n",
      "0\n",
      "0\n",
      "0\n",
      "0\n"
     ]
    },
    {
     "name": "stdout",
     "output_type": "stream",
     "text": [
      "0\n",
      "0\n",
      "0\n",
      "0\n",
      "0\n",
      "0\n"
     ]
    }
   ],
   "source": [
    "print(NorIso(calC2_1(t,d),L2_1(x,t,d),sigma2_1,D2_1,2))\n",
    "print(NorIso(calC3_1(t,d),L3_1(x,t,d),sigma3_1,D3_1,3))\n",
    "print(NorIso(calC4_1(t,d),L4_1(x,t,d),sigma4_1,D4_1,2))\n",
    "print(NorIso(calC4_1(t,d),L4_2(x,t,d),sigma4_2,D4_2,2))\n",
    "print(NorIso(calC4_4(t,d),L4_3(x,t,d),sigma4_3,D4_3,2))\n",
    "print(NorIso(calC5_1(t,d),L5_1(x,t,d),sigma5_1,D5_1,5))\n",
    "print(NorIso(calC6_1(t,d),L6_1(x,t,d),sigma6_1,D6_1,2))\n",
    "print(NorIso(calC6_1(t,d),L6_2(x,t,d),sigma6_2,D6_2,3))\n",
    "print(NorIso(calC6_3(t,d),L6_3(x,t,d),sigma6_3,D6_3,2))\n",
    "print(NorIso(calC6_2(t,d),L6_4(x,t,d),sigma6_4,D6_4,3))\n",
    "print(NorIso(calC7_1(t,d),L7_1(x,t,d),sigma7_1,D7_1,7))\n",
    "print(NorIso(calC8_1(t,d),L8_1(x,t,d),sigma8_1,D8_1,2))\n",
    "print(NorIso(calC8_3(t,d),L8_2(x,t,d),sigma8_2,D8_2,2))\n",
    "print(NorIso(calC8_1(t,d),L8_3(x,t,d),sigma8_3,D8_3,2))\n",
    "print(NorIso(calC8_4(t,d),L8_4(x,t,d),sigma8_4,D8_4,2))\n",
    "print(NorIso(calC8_4(t,d),L8_5(x,t,d),sigma8_5,D8_5,2))\n",
    "print(NorIso(calC9_1(t,d),L9_1(x,t,d),sigma9_1,D9_1,3))\n",
    "print(NorIso(calC9_2(t,d),L9_2(x,t,d),sigma9_2,D9_2,3))\n",
    "print(NorIso(calC10_1(t,d),L10_1(x,t,d),sigma10_1,D10_1,2))\n",
    "print(NorIso(calC10_1(t,d),L10_2(x,t,d),sigma10_2,D10_2,5))\n",
    "print(NorIso(calC10_3(t,d),L10_3(x,t,d),sigma10_3,D10_3,2))\n",
    "print(NorIso(calC10_2(t,d),L10_4(x,t,d),sigma10_4,D10_4,5))\n",
    "print(NorIso(calC12_1(t,d),L12_1(x,t,d),sigma12_1,D12_1,3))\n",
    "print(NorIso(calC12_8(t,d),L12_2(x,t,d),sigma12_2,D12_2,2))\n",
    "print(NorIso(calC12_7(t,d),L12_3(x,t,d),sigma12_3,D12_3,3))\n",
    "print(NorIso(calC12_1(t,d),L12_4(x,t,d),sigma12_4,D12_4,2))\n",
    "print(NorIso(calC12_5(t,d),L12_5(x,t,d),sigma12_5,D12_5,2))\n",
    "print(NorIso(calC12_5(t,d),L12_6(x,t,d),sigma12_6,D12_6,3))\n",
    "print(NorIso(calC12_6(t,d),L12_7(x,t,d),sigma12_7,D12_7,2))\n",
    "print(NorIso(calC12_2(t,d),L12_8(x,t,d),sigma12_8,D12_8,2))\n",
    "print(NorIso(calC12_3(t,d),L12_9(x,t,d),sigma12_9,D12_9,3))\n",
    "print(NorIso(calC12_1(t,d),L12_10(x,t,d),sigma12_10,D12_10,2))\n",
    "print(NorIso(calC13_1(t,d),L13_1(x,t,d),sigma13_1,D13_1,13))\n",
    "print(NorIso(calC16_1(t,d),L16_1(x,t,d),sigma16_1,D16_1,2))\n",
    "print(NorIso(calC16_2(t,d),L16_2(x,t,d),sigma16_2,D16_2,2))\n",
    "print(NorIso(calC16_1(t,d),L16_3(x,t,d),sigma16_3,D16_3,2))\n",
    "print(NorIso(calC16_4(t,d),L16_4(x,t,d),sigma16_4,D16_4,2))\n",
    "print(NorIso(calC16_4(t,d),L16_5(x,t,d),sigma16_5,D16_5,2))\n",
    "print(NorIso(calC16_6(t,d),L16_6(x,t,d),sigma16_6,D16_6,2))\n",
    "print(NorIso(calC16_6(t,d),L16_7(x,t,d),sigma16_7,D16_7,2))\n",
    "print(NorIso(calC18_1(t,d),L18_1(x,t,d),sigma18_1,D18_1,3))\n",
    "print(NorIso(calC18_1(t,d),L18_2(x,t,d),sigma18_2,D18_2,2))\n",
    "print(NorIso(calC18_2(t,d),L18_3(x,t,d),sigma18_3,D18_3,3))\n",
    "print(NorIso(calC18_3(t,d),L18_4(x,t,d),sigma18_4,D18_4,2))\n",
    "print(NorIso(calC18_3(t,d),L18_5(x,t,d),sigma18_5,D18_5,3))\n",
    "print(NorIso(calC18_5(t,d),L18_6(x,t,d),sigma18_6,D18_6,2))\n",
    "print(NorIso(calC18_4(t,d),L18_7(x,t,d),sigma18_7,D18_7,3))\n",
    "print(NorIso(calC25_1(t,d),L25_1(x,t,d),sigma25_1,D25_1,5))\n",
    "print(NorIso(calC25_2(t,d),L25_2(x,t,d),sigma25_2,D25_2,5))"
   ]
  },
  {
   "cell_type": "markdown",
   "metadata": {
    "collapsed": false
   },
   "source": [
    "Next, we verify that $\\mathcal{C}_{n,k}$ is not $\\mathbb{Q}(t)$-isomorphic to $\\mathcal{C}_{n,l}$ for $k \\neq l$."
   ]
  },
  {
   "cell_type": "code",
   "execution_count": 6,
   "metadata": {
    "collapsed": false
   },
   "outputs": [
    {
     "name": "stdout",
     "output_type": "stream",
     "text": [
      "False\n",
      "False\n",
      "False\n",
      "False\n",
      "False\n",
      "False\n",
      "False\n",
      "False\n",
      "False\n",
      "False\n",
      "False\n",
      "False\n",
      "False\n",
      "False\n",
      "False\n",
      "False\n",
      "False\n",
      "False\n",
      "False\n",
      "False\n",
      "False\n",
      "False\n",
      "False\n",
      "False\n",
      "False\n",
      "False\n",
      "False\n",
      "False\n",
      "False\n",
      "False\n",
      "False\n",
      "False\n",
      "False\n"
     ]
    },
    {
     "name": "stdout",
     "output_type": "stream",
     "text": [
      "False\n",
      "False\n",
      "False\n",
      "False\n",
      "False\n",
      "False\n",
      "False\n",
      "False\n",
      "False\n",
      "False\n",
      "False\n",
      "False\n",
      "False\n",
      "False\n",
      "False\n",
      "False\n",
      "False\n",
      "False\n",
      "False\n",
      "False\n",
      "False\n",
      "False\n",
      "False\n",
      "False\n",
      "False\n",
      "False\n",
      "False\n",
      "False\n",
      "False\n",
      "False\n",
      "False\n",
      "False\n",
      "False\n"
     ]
    },
    {
     "name": "stdout",
     "output_type": "stream",
     "text": [
      "False\n",
      "False\n",
      "False\n",
      "False\n",
      "False\n",
      "False\n",
      "False\n",
      "False\n",
      "False\n",
      "False\n",
      "False\n",
      "False\n",
      "False\n",
      "False\n",
      "False\n",
      "False\n",
      "False\n",
      "False\n",
      "False\n",
      "False\n",
      "False\n",
      "False\n",
      "False\n",
      "False\n",
      "False\n",
      "False\n",
      "False\n",
      "False\n",
      "False\n",
      "False\n",
      "False\n",
      "False\n",
      "False\n"
     ]
    },
    {
     "name": "stdout",
     "output_type": "stream",
     "text": [
      "False\n",
      "False\n",
      "False\n",
      "False\n",
      "False\n",
      "False\n",
      "False\n",
      "False\n",
      "False\n",
      "False\n",
      "False\n",
      "False\n",
      "False\n",
      "False\n",
      "False\n",
      "False\n"
     ]
    }
   ],
   "source": [
    "print((calC2_1(t,d).change_ring(R)).is_isomorphic(calC2_2(t,d).change_ring(R)))\n",
    "print((calC3_1(t,d).change_ring(R)).is_isomorphic(calC3_2(t,d).change_ring(R)))\n",
    "print((calC4_1(t,d).change_ring(R)).is_isomorphic(calC4_2(t,d).change_ring(R)))\n",
    "print((calC4_1(t,d).change_ring(R)).is_isomorphic(calC4_3(t,d).change_ring(R)))\n",
    "print((calC4_1(t,d).change_ring(R)).is_isomorphic(calC4_4(t,d).change_ring(R)))\n",
    "print((calC4_2(t,d).change_ring(R)).is_isomorphic(calC4_3(t,d).change_ring(R)))\n",
    "print((calC4_2(t,d).change_ring(R)).is_isomorphic(calC4_4(t,d).change_ring(R)))\n",
    "print((calC4_3(t,d).change_ring(R)).is_isomorphic(calC4_4(t,d).change_ring(R)))\n",
    "print((calC5_1(t,d).change_ring(R)).is_isomorphic(calC5_2(t,d).change_ring(R)))\n",
    "print((calC6_1(t,d).change_ring(R)).is_isomorphic(calC6_2(t,d).change_ring(R)))\n",
    "print((calC6_1(t,d).change_ring(R)).is_isomorphic(calC6_3(t,d).change_ring(R)))\n",
    "print((calC6_1(t,d).change_ring(R)).is_isomorphic(calC6_4(t,d).change_ring(R)))\n",
    "print((calC6_2(t,d).change_ring(R)).is_isomorphic(calC6_3(t,d).change_ring(R)))\n",
    "print((calC6_2(t,d).change_ring(R)).is_isomorphic(calC6_4(t,d).change_ring(R)))\n",
    "print((calC6_3(t,d).change_ring(R)).is_isomorphic(calC6_4(t,d).change_ring(R)))\n",
    "print((calC7_1(t,d).change_ring(R)).is_isomorphic(calC7_2(t,d).change_ring(R)))\n",
    "print((calC8_1(t,d).change_ring(R)).is_isomorphic(calC8_2(t,d).change_ring(R)))\n",
    "print((calC8_1(t,d).change_ring(R)).is_isomorphic(calC8_3(t,d).change_ring(R)))\n",
    "print((calC8_1(t,d).change_ring(R)).is_isomorphic(calC8_4(t,d).change_ring(R)))\n",
    "print((calC8_1(t,d).change_ring(R)).is_isomorphic(calC8_5(t,d).change_ring(R)))\n",
    "print((calC8_1(t,d).change_ring(R)).is_isomorphic(calC8_6(t,d).change_ring(R)))\n",
    "print((calC8_2(t,d).change_ring(R)).is_isomorphic(calC8_3(t,d).change_ring(R)))\n",
    "print((calC8_2(t,d).change_ring(R)).is_isomorphic(calC8_4(t,d).change_ring(R)))\n",
    "print((calC8_2(t,d).change_ring(R)).is_isomorphic(calC8_5(t,d).change_ring(R)))\n",
    "print((calC8_2(t,d).change_ring(R)).is_isomorphic(calC8_6(t,d).change_ring(R)))\n",
    "print((calC8_3(t,d).change_ring(R)).is_isomorphic(calC8_4(t,d).change_ring(R)))\n",
    "print((calC8_3(t,d).change_ring(R)).is_isomorphic(calC8_5(t,d).change_ring(R)))\n",
    "print((calC8_3(t,d).change_ring(R)).is_isomorphic(calC8_6(t,d).change_ring(R)))\n",
    "print((calC8_4(t,d).change_ring(R)).is_isomorphic(calC8_5(t,d).change_ring(R)))\n",
    "print((calC8_4(t,d).change_ring(R)).is_isomorphic(calC8_6(t,d).change_ring(R)))\n",
    "print((calC8_5(t,d).change_ring(R)).is_isomorphic(calC8_6(t,d).change_ring(R)))\n",
    "print((calC9_1(t,d).change_ring(R)).is_isomorphic(calC9_2(t,d).change_ring(R)))\n",
    "print((calC9_1(t,d).change_ring(R)).is_isomorphic(calC9_3(t,d).change_ring(R)))\n",
    "print((calC9_2(t,d).change_ring(R)).is_isomorphic(calC9_3(t,d).change_ring(R)))\n",
    "print((calC10_1(t,d).change_ring(R)).is_isomorphic(calC10_2(t,d).change_ring(R)))\n",
    "print((calC10_1(t,d).change_ring(R)).is_isomorphic(calC10_3(t,d).change_ring(R)))\n",
    "print((calC10_1(t,d).change_ring(R)).is_isomorphic(calC10_4(t,d).change_ring(R)))\n",
    "print((calC10_2(t,d).change_ring(R)).is_isomorphic(calC10_3(t,d).change_ring(R)))\n",
    "print((calC10_2(t,d).change_ring(R)).is_isomorphic(calC10_4(t,d).change_ring(R)))\n",
    "print((calC10_3(t,d).change_ring(R)).is_isomorphic(calC10_4(t,d).change_ring(R)))\n",
    "print((calC12_1(t,d).change_ring(R)).is_isomorphic(calC12_2(t,d).change_ring(R)))\n",
    "print((calC12_1(t,d).change_ring(R)).is_isomorphic(calC12_3(t,d).change_ring(R)))\n",
    "print((calC12_1(t,d).change_ring(R)).is_isomorphic(calC12_4(t,d).change_ring(R)))\n",
    "print((calC12_1(t,d).change_ring(R)).is_isomorphic(calC12_5(t,d).change_ring(R)))\n",
    "print((calC12_1(t,d).change_ring(R)).is_isomorphic(calC12_6(t,d).change_ring(R)))\n",
    "print((calC12_1(t,d).change_ring(R)).is_isomorphic(calC12_7(t,d).change_ring(R)))\n",
    "print((calC12_1(t,d).change_ring(R)).is_isomorphic(calC12_8(t,d).change_ring(R)))\n",
    "print((calC12_2(t,d).change_ring(R)).is_isomorphic(calC12_3(t,d).change_ring(R)))\n",
    "print((calC12_2(t,d).change_ring(R)).is_isomorphic(calC12_4(t,d).change_ring(R)))\n",
    "print((calC12_2(t,d).change_ring(R)).is_isomorphic(calC12_5(t,d).change_ring(R)))\n",
    "print((calC12_2(t,d).change_ring(R)).is_isomorphic(calC12_6(t,d).change_ring(R)))\n",
    "print((calC12_2(t,d).change_ring(R)).is_isomorphic(calC12_7(t,d).change_ring(R)))\n",
    "print((calC12_2(t,d).change_ring(R)).is_isomorphic(calC12_8(t,d).change_ring(R)))\n",
    "print((calC12_3(t,d).change_ring(R)).is_isomorphic(calC12_4(t,d).change_ring(R)))\n",
    "print((calC12_3(t,d).change_ring(R)).is_isomorphic(calC12_5(t,d).change_ring(R)))\n",
    "print((calC12_3(t,d).change_ring(R)).is_isomorphic(calC12_6(t,d).change_ring(R)))\n",
    "print((calC12_3(t,d).change_ring(R)).is_isomorphic(calC12_7(t,d).change_ring(R)))\n",
    "print((calC12_3(t,d).change_ring(R)).is_isomorphic(calC12_8(t,d).change_ring(R)))\n",
    "print((calC12_4(t,d).change_ring(R)).is_isomorphic(calC12_5(t,d).change_ring(R)))\n",
    "print((calC12_4(t,d).change_ring(R)).is_isomorphic(calC12_6(t,d).change_ring(R)))\n",
    "print((calC12_4(t,d).change_ring(R)).is_isomorphic(calC12_7(t,d).change_ring(R)))\n",
    "print((calC12_4(t,d).change_ring(R)).is_isomorphic(calC12_8(t,d).change_ring(R)))\n",
    "print((calC12_5(t,d).change_ring(R)).is_isomorphic(calC12_6(t,d).change_ring(R)))\n",
    "print((calC12_5(t,d).change_ring(R)).is_isomorphic(calC12_7(t,d).change_ring(R)))\n",
    "print((calC12_5(t,d).change_ring(R)).is_isomorphic(calC12_8(t,d).change_ring(R)))\n",
    "print((calC12_6(t,d).change_ring(R)).is_isomorphic(calC12_7(t,d).change_ring(R)))\n",
    "print((calC12_6(t,d).change_ring(R)).is_isomorphic(calC12_8(t,d).change_ring(R)))\n",
    "print((calC12_7(t,d).change_ring(R)).is_isomorphic(calC12_8(t,d).change_ring(R)))\n",
    "print((calC13_1(t,d).change_ring(R)).is_isomorphic(calC13_2(t,d).change_ring(R)))\n",
    "print((calC16_1(t,d).change_ring(R)).is_isomorphic(calC16_2(t,d).change_ring(R)))\n",
    "print((calC16_1(t,d).change_ring(R)).is_isomorphic(calC16_3(t,d).change_ring(R)))\n",
    "print((calC16_1(t,d).change_ring(R)).is_isomorphic(calC16_4(t,d).change_ring(R)))\n",
    "print((calC16_1(t,d).change_ring(R)).is_isomorphic(calC16_5(t,d).change_ring(R)))\n",
    "print((calC16_1(t,d).change_ring(R)).is_isomorphic(calC16_6(t,d).change_ring(R)))\n",
    "print((calC16_1(t,d).change_ring(R)).is_isomorphic(calC16_7(t,d).change_ring(R)))\n",
    "print((calC16_1(t,d).change_ring(R)).is_isomorphic(calC16_8(t,d).change_ring(R)))\n",
    "print((calC16_2(t,d).change_ring(R)).is_isomorphic(calC16_3(t,d).change_ring(R)))\n",
    "print((calC16_2(t,d).change_ring(R)).is_isomorphic(calC16_4(t,d).change_ring(R)))\n",
    "print((calC16_2(t,d).change_ring(R)).is_isomorphic(calC16_5(t,d).change_ring(R)))\n",
    "print((calC16_2(t,d).change_ring(R)).is_isomorphic(calC16_6(t,d).change_ring(R)))\n",
    "print((calC16_2(t,d).change_ring(R)).is_isomorphic(calC16_7(t,d).change_ring(R)))\n",
    "print((calC16_2(t,d).change_ring(R)).is_isomorphic(calC16_8(t,d).change_ring(R)))\n",
    "print((calC16_3(t,d).change_ring(R)).is_isomorphic(calC16_4(t,d).change_ring(R)))\n",
    "print((calC16_3(t,d).change_ring(R)).is_isomorphic(calC16_5(t,d).change_ring(R)))\n",
    "print((calC16_3(t,d).change_ring(R)).is_isomorphic(calC16_6(t,d).change_ring(R)))\n",
    "print((calC16_3(t,d).change_ring(R)).is_isomorphic(calC16_7(t,d).change_ring(R)))\n",
    "print((calC16_3(t,d).change_ring(R)).is_isomorphic(calC16_8(t,d).change_ring(R)))\n",
    "print((calC16_4(t,d).change_ring(R)).is_isomorphic(calC16_5(t,d).change_ring(R)))\n",
    "print((calC16_4(t,d).change_ring(R)).is_isomorphic(calC16_6(t,d).change_ring(R)))\n",
    "print((calC16_4(t,d).change_ring(R)).is_isomorphic(calC16_7(t,d).change_ring(R)))\n",
    "print((calC16_4(t,d).change_ring(R)).is_isomorphic(calC16_8(t,d).change_ring(R)))\n",
    "print((calC16_5(t,d).change_ring(R)).is_isomorphic(calC16_6(t,d).change_ring(R)))\n",
    "print((calC16_5(t,d).change_ring(R)).is_isomorphic(calC16_7(t,d).change_ring(R)))\n",
    "print((calC16_5(t,d).change_ring(R)).is_isomorphic(calC16_8(t,d).change_ring(R)))\n",
    "print((calC16_6(t,d).change_ring(R)).is_isomorphic(calC16_7(t,d).change_ring(R)))\n",
    "print((calC16_6(t,d).change_ring(R)).is_isomorphic(calC16_8(t,d).change_ring(R)))\n",
    "print((calC16_7(t,d).change_ring(R)).is_isomorphic(calC16_8(t,d).change_ring(R)))\n",
    "print((calC18_1(t,d).change_ring(R)).is_isomorphic(calC18_2(t,d).change_ring(R)))\n",
    "print((calC18_1(t,d).change_ring(R)).is_isomorphic(calC18_3(t,d).change_ring(R)))\n",
    "print((calC18_1(t,d).change_ring(R)).is_isomorphic(calC18_4(t,d).change_ring(R)))\n",
    "print((calC18_1(t,d).change_ring(R)).is_isomorphic(calC18_5(t,d).change_ring(R)))\n",
    "print((calC18_1(t,d).change_ring(R)).is_isomorphic(calC18_6(t,d).change_ring(R)))\n",
    "print((calC18_2(t,d).change_ring(R)).is_isomorphic(calC18_3(t,d).change_ring(R)))\n",
    "print((calC18_2(t,d).change_ring(R)).is_isomorphic(calC18_4(t,d).change_ring(R)))\n",
    "print((calC18_2(t,d).change_ring(R)).is_isomorphic(calC18_5(t,d).change_ring(R)))\n",
    "print((calC18_2(t,d).change_ring(R)).is_isomorphic(calC18_6(t,d).change_ring(R)))\n",
    "print((calC18_3(t,d).change_ring(R)).is_isomorphic(calC18_4(t,d).change_ring(R)))\n",
    "print((calC18_3(t,d).change_ring(R)).is_isomorphic(calC18_5(t,d).change_ring(R)))\n",
    "print((calC18_3(t,d).change_ring(R)).is_isomorphic(calC18_6(t,d).change_ring(R)))\n",
    "print((calC18_4(t,d).change_ring(R)).is_isomorphic(calC18_5(t,d).change_ring(R)))\n",
    "print((calC18_4(t,d).change_ring(R)).is_isomorphic(calC18_6(t,d).change_ring(R)))\n",
    "print((calC18_5(t,d).change_ring(R)).is_isomorphic(calC18_6(t,d).change_ring(R)))\n",
    "print((calC25_1(t,d).change_ring(R)).is_isomorphic(calC25_2(t,d).change_ring(R)))\n",
    "print((calC25_1(t,d).change_ring(R)).is_isomorphic(calC25_3(t,d).change_ring(R)))\n",
    "print((calC25_2(t,d).change_ring(R)).is_isomorphic(calC25_3(t,d).change_ring(R)))"
   ]
  },
  {
   "cell_type": "markdown",
   "metadata": {
    "collapsed": false
   },
   "source": [
    "The code below verifies the discussion preceding Lemma 4.1."
   ]
  },
  {
   "cell_type": "code",
   "execution_count": 7,
   "metadata": {
    "collapsed": false
   },
   "outputs": [
    {
     "name": "stdout",
     "output_type": "stream",
     "text": [
      "True\n",
      "True\n",
      "True\n",
      "True\n",
      "True\n",
      "True\n",
      "True\n",
      "True\n",
      "True\n",
      "True\n",
      "True\n",
      "True\n",
      "True\n",
      "True\n",
      "True\n",
      "True\n",
      "True\n",
      "True\n",
      "True\n",
      "True\n",
      "True\n",
      "True\n",
      "True\n",
      "True\n",
      "True\n",
      "True\n",
      "True\n",
      "True\n",
      "True\n",
      "True\n",
      "True\n",
      "True\n"
     ]
    }
   ],
   "source": [
    "print(calC11_1(1,1).is_isomorphic(EllipticCurve('121.a1')))\n",
    "print(calC11_2(1,1).is_isomorphic(EllipticCurve('121.a2')))\n",
    "print(calC11_1(0,1).is_isomorphic(EllipticCurve('121.b1')))\n",
    "print(calC11_2(0,1).is_isomorphic(EllipticCurve('121.b2')))\n",
    "print(calC14_1(1).is_isomorphic(EllipticCurve('49.a1')))\n",
    "print(calC14_2(1).is_isomorphic(EllipticCurve('49.a2')))\n",
    "print(calC14_3(1).is_isomorphic(EllipticCurve('49.a3')))\n",
    "print(calC14_4(1).is_isomorphic(EllipticCurve('49.a4')))\n",
    "print(calC15_1(1).is_isomorphic(EllipticCurve('50.a1')))\n",
    "print(calC15_2(1).is_isomorphic(EllipticCurve('50.a3')))\n",
    "print(calC15_3(1).is_isomorphic(EllipticCurve('50.a4')))\n",
    "print(calC15_4(1).is_isomorphic(EllipticCurve('50.a2')))\n",
    "print(calC17_1(1).is_isomorphic(EllipticCurve('14450.b1')))\n",
    "print(calC17_2(1).is_isomorphic(EllipticCurve('14450.b2')))\n",
    "print(calC19_1(1).is_isomorphic(EllipticCurve('361.a1')))\n",
    "print(calC19_2(1).is_isomorphic(EllipticCurve('361.a2')))\n",
    "print(calC21_1(1).is_isomorphic(EllipticCurve('162.b1')))\n",
    "print(calC21_2(1).is_isomorphic(EllipticCurve('162.b2')))\n",
    "print(calC21_3(1).is_isomorphic(EllipticCurve('162.b4')))\n",
    "print(calC21_4(1).is_isomorphic(EllipticCurve('162.b3')))\n",
    "print(calC27_1(1).is_isomorphic(EllipticCurve('27.a1')))\n",
    "print(calC27_2(1).is_isomorphic(EllipticCurve('27.a3')))\n",
    "print(calC27_3(1).is_isomorphic(EllipticCurve('27.a4')))\n",
    "print(calC27_4(1).is_isomorphic(EllipticCurve('27.a2')))\n",
    "print(calC37_1(1).is_isomorphic(EllipticCurve('1225.b1')))\n",
    "print(calC37_2(1).is_isomorphic(EllipticCurve('1225.b2')))\n",
    "print(calC43_1(1).is_isomorphic(EllipticCurve('1849.b1')))\n",
    "print(calC43_2(1).is_isomorphic(EllipticCurve('1849.b2')))\n",
    "print(calC67_1(1).is_isomorphic(EllipticCurve('4489.b1')))\n",
    "print(calC67_2(1).is_isomorphic(EllipticCurve('4489.b2')))\n",
    "print(calC163_1(1).is_isomorphic(EllipticCurve('26569.a1')))\n",
    "print(calC163_2(1).is_isomorphic(EllipticCurve('26569.a2')))"
   ]
  }
 ],
 "metadata": {
  "kernelspec": {
   "display_name": "SageMath 9.1",
   "language": "sagemath",
   "metadata": {
    "cocalc": {
     "description": "Open-source mathematical software system",
     "priority": 10,
     "url": "https://www.sagemath.org/"
    }
   },
   "name": "sage-9.1",
   "resource_dir": "/ext/jupyter/kernels/sage-9.1"
  },
  "language_info": {
   "codemirror_mode": {
    "name": "ipython",
    "version": 3
   },
   "file_extension": ".py",
   "mimetype": "text/x-python",
   "name": "python",
   "nbconvert_exporter": "python",
   "pygments_lexer": "ipython3",
   "version": "3.7.3"
  }
 },
 "nbformat": 4,
 "nbformat_minor": 4
}