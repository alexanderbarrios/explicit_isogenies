{
 "cells": [
  {
   "cell_type": "code",
   "execution_count": 1,
   "metadata": {
    "collapsed": false
   },
   "outputs": [
   ],
   "source": [
    "S.<a,b,d,r,s> = QQ[]\n",
    "S=S.fraction_field()\n",
    "load('models.sage')"
   ]
  },
  {
   "cell_type": "markdown",
   "metadata": {
    "collapsed": false
   },
   "source": [
    "The code below verifies Lemma 4.1. Namely, it shows that $\\mathcal{C}_{n,1}$ is $K(a,b)$-isomorphic to $F_n=F_n(a,b)$."
   ]
  },
  {
   "cell_type": "code",
   "execution_count": 2,
   "metadata": {
    "collapsed": false
   },
   "outputs": [
    {
     "name": "stdout",
     "output_type": "stream",
     "text": [
      "True\n",
      "True\n",
      "True\n"
     ]
    }
   ],
   "source": [
    "print(calC6_1(b/a,1).change_weierstrass_model(2/a, (5184*a^2 + 1728*a*b + 132*b^2)/(12*a^2), (72*a + 10*b)/(2*a), (5184*a^2*b + 1224*a*b^2 + 72*b^3)/(2*a^3)).change_ring(S)==F6(a,b).change_ring(S))\n",
    "print(calC8_1(b/a,1).change_weierstrass_model(6/a, (-2304*a^2 + 720*b^2)/(12*a^2), 24*b/(2*a), (-13824*a^2*b + 864*b^3)/(2*a^3)).change_ring(S)==F8(a,b).change_ring(S))\n",
    "print(calC9_1(b/a,1).change_weierstrass_model(2/a, (1296*a^2 + 432*a*b + 36*b^2)/(12*a^2), (36*a + 6*b)/(2*a), (-216*a^3 + 216*a^2*b - 72*a*b^2 + 8*b^3)/(2*a^3)).change_ring(S)==F9(a,b).change_ring(S))"
   ]
  },
  {
   "cell_type": "markdown",
   "metadata": {
    "collapsed": false
   },
   "source": [
    "The below verifies that $\\alpha_n$ and $\\gamma_n$ are the invariants $c_4$ and $\\Delta$, respectively, of $F_n$."
   ]
  },
  {
   "cell_type": "code",
   "execution_count": 3,
   "metadata": {
    "collapsed": false
   },
   "outputs": [
    {
     "name": "stdout",
     "output_type": "stream",
     "text": [
      "alpha_6 = (9) * (12*a + b) * (15552*a^3 + 3888*a^2*b + 252*a*b^2 + b^3)\n",
      "gamma_6 = (729) * a * (8*a + b)^2 * (9*a + b)^3 * b^6\n",
      "alpha_8 = (16) * (256*a^4 + 224*a^2*b^2 + b^4)\n",
      "gamma_8 = (4096) * b^2 * a^2 * (4*a - b)^4 * (4*a + b)^4\n",
      "alpha_9 = (9) * (6*a + b) * (2160*a^3 + 756*a^2*b + 234*a*b^2 + b^3)\n",
      "gamma_9 = (729) * a * (-3*a + b)^9 * (9*a^2 + 3*a*b + b^2)\n"
     ]
    }
   ],
   "source": [
    "print('alpha_6 =', factor(F6(a,b).c4()))\n",
    "print('gamma_6 =', factor(F6(a,b).discriminant()))\n",
    "print('alpha_8 =', factor(F8(a,b).c4()))\n",
    "print('gamma_8 =',factor(F8(a,b).discriminant()))\n",
    "print('alpha_9 =', factor(F9(a,b).c4()))\n",
    "print('gamma_9 =',factor(F9(a,b).discriminant()))"
   ]
  },
  {
   "cell_type": "markdown",
   "metadata": {
    "collapsed": false
   },
   "source": [
    "The code below verifies Lemma 4.2."
   ]
  },
  {
   "cell_type": "code",
   "execution_count": 4,
   "metadata": {
    "collapsed": false
   },
   "outputs": [
    {
     "name": "stdout",
     "output_type": "stream",
     "text": [
      "True\n",
      "True\n",
      "True\n"
     ]
    }
   ],
   "source": [
    "print(mu6*F6(a,b).c4()+nu6*F6(a,b).discriminant() == 2^16 * 3^24* (a^15*r + b^15*s))\n",
    "print(mu8*F8(a,b).c4()+nu8*F8(a,b).discriminant() == 2^44* (a^14*r + b^14*s))\n",
    "print(mu9*F9(a,b).c4()+nu9*F9(a,b).discriminant() == 3^39 * (a^15*r + b^15*s))"
   ]
  },
  {
   "cell_type": "markdown",
   "metadata": {
    "collapsed": false
   },
   "source": [
    "The code below verifies Lemma 4.3."
   ]
  },
  {
   "cell_type": "code",
   "execution_count": 5,
   "metadata": {
    "collapsed": false
   },
   "outputs": [
    {
     "name": "stdout",
     "output_type": "stream",
     "text": [
      "[\n",
      "t == 24*2^(2/3)*(-1)^(2/3)*(-I*sqrt(3) + 1) - 30*2^(1/3)*(-1)^(1/3)*(I*sqrt(3) + 1) - 84,\n",
      "t == 24*2^(2/3)*(-1)^(2/3)*(I*sqrt(3) + 1) - 30*2^(1/3)*(-1)^(1/3)*(-I*sqrt(3) + 1) - 84,\n",
      "t == -48*2^(2/3)*(-1)^(2/3) + 60*2^(1/3)*(-1)^(1/3) - 84,\n",
      "t == -12\n",
      "]\n",
      "742.251073295445 - 3449.38672330174*I\n",
      "1.51013228704515e14 - 0.0882356068492167*I\n",
      "742.251073295665 + 3449.38672330246*I\n",
      "54000.0000000000\n",
      "[\n",
      "t == -6*sqrt(3) - 18,\n",
      "t == 6*sqrt(3) - 18,\n",
      "t == -78*sqrt(3) - 1/2*sqrt(-83808*sqrt(3) + 145152) + 126,\n",
      "t == -78*sqrt(3) + 1/2*sqrt(-83808*sqrt(3) + 145152) + 126,\n",
      "t == -6*sqrt(6)*sqrt(97*sqrt(3) + 168) + 78*sqrt(3) + 126,\n",
      "t == 6*sqrt(6)*sqrt(97*sqrt(3) + 168) + 78*sqrt(3) + 126\n",
      "]\n",
      "1.53553679396729e8\n",
      "-11663.3967288842\n",
      "-860.904396489092 - 1050.06029481087*I\n",
      "-860.904396489091 + 1050.06029481087*I\n",
      "13151.6766830387\n",
      "2.35785039685590e16\n"
     ]
    }
   ],
   "source": [
    "X6_0=solve(j6_1(t)==0,t)\n",
    "X6_1728=solve(j6_1(t)==1728,t)\n",
    "print(X6_0)\n",
    "print((j6_2(X6_0[0].right())).numerical_approx())\n",
    "print((j6_2(X6_0[1].right())).numerical_approx())\n",
    "print((j6_2(X6_0[2].right())).numerical_approx())\n",
    "print((j6_2(X6_0[3].right())).numerical_approx())\n",
    "print(X6_1728)\n",
    "print((j6_2(X6_1728[0].right())).numerical_approx())\n",
    "print((j6_2(X6_1728[1].right())).numerical_approx())\n",
    "print((j6_2(X6_1728[2].right())).numerical_approx())\n",
    "print((j6_2(X6_1728[3].right())).numerical_approx())\n",
    "print((j6_2(X6_1728[4].right())).numerical_approx())\n",
    "print((j6_2(X6_1728[5].right())).numerical_approx())"
   ]
  },
  {
   "cell_type": "code",
   "execution_count": 6,
   "metadata": {
    "collapsed": false
   },
   "outputs": [
    {
     "name": "stdout",
     "output_type": "stream",
     "text": [
      "[\n",
      "t == -32*sqrt(3) - 16*sqrt(15*sqrt(3) + 26) - 60,\n",
      "t == -32*sqrt(3) + 16*sqrt(15*sqrt(3) + 26) - 60,\n",
      "t == 32*sqrt(3) - 1/2*sqrt(-15360*sqrt(3) + 26624) - 60,\n",
      "t == 32*sqrt(3) + 1/2*sqrt(-15360*sqrt(3) + 26624) - 60\n",
      "]\n",
      "8.04180103737649e18\n",
      "-52511.9848411744\n",
      "2.00422146850245e6\n",
      "1276.11781256439\n",
      "[\n",
      "t == -96*sqrt(2) - 1/2*sqrt(-101376*sqrt(2) + 143360) + 132,\n",
      "t == -96*sqrt(2) + 1/2*sqrt(-101376*sqrt(2) + 143360) + 132,\n",
      "t == 96*sqrt(2) - 16*sqrt(99*sqrt(2) + 140) + 132,\n",
      "t == 96*sqrt(2) + 16*sqrt(99*sqrt(2) + 140) + 132,\n",
      "t == -8*sqrt(2) - 12,\n",
      "t == 8*sqrt(2) - 12\n",
      "]\n",
      "7924.31006979767 - 22082.6752108968*I\n",
      "7924.31006979767 + 22082.6752108968*I\n",
      "-286007.999476406\n",
      "6.76116697478186e21\n",
      "8.22263163295950e10\n",
      "-89.5949976693835\n"
     ]
    }
   ],
   "source": [
    "X8_0=solve(j8_1(t)==0,t)\n",
    "X8_1728=solve(j8_1(t)==1728,t)\n",
    "print(X8_0)\n",
    "print((j8_2(X8_0[0].right())).numerical_approx())\n",
    "print((j8_2(X8_0[1].right())).numerical_approx())\n",
    "print((j8_2(X8_0[2].right())).numerical_approx())\n",
    "print((j8_2(X8_0[3].right())).numerical_approx())\n",
    "print(X8_1728)\n",
    "print((j8_2(X8_1728[0].right())).numerical_approx())\n",
    "print((j8_2(X8_1728[1].right())).numerical_approx())\n",
    "print((j8_2(X8_1728[2].right())).numerical_approx())\n",
    "print((j8_2(X8_1728[3].right())).numerical_approx())\n",
    "print((j8_2(X8_1728[4].right())).numerical_approx())\n",
    "print((j8_2(X8_1728[5].right())).numerical_approx())"
   ]
  },
  {
   "cell_type": "code",
   "execution_count": 7,
   "metadata": {
    "collapsed": false
   },
   "outputs": [
    {
     "name": "stdout",
     "output_type": "stream",
     "text": [
      "[\n",
      "t == 9*9^(2/3)*(-1)^(2/3)*(-I*sqrt(3) + 1) - 18*9^(1/3)*(-1)^(1/3)*(I*sqrt(3) + 1) - 78,\n",
      "t == 9*9^(2/3)*(-1)^(2/3)*(I*sqrt(3) + 1) - 18*9^(1/3)*(-1)^(1/3)*(-I*sqrt(3) + 1) - 78,\n",
      "t == -18*9^(2/3)*(-1)^(2/3) + 36*9^(1/3)*(-1)^(1/3) - 78,\n",
      "t == -6\n",
      "]\n",
      "1010.54325243829 + 881.952184106312*I\n",
      "-1.85576290573466e21 + 1.55823450768089e6*I\n",
      "1010.54325243871 - 881.952184106533*I\n",
      "-1.22880000000000e7\n",
      "[\n",
      "0 == t^6 - 504*t^5 - 16632*t^4 - 123012*t^3 - 517104*t^2 - 1143072*t - 1475496\n",
      "]\n"
     ]
    }
   ],
   "source": [
    "X9_0=solve(j9_1(t)==0,t)\n",
    "X9_1728=solve(j9_1(t)==1728,t)\n",
    "print(X9_0)\n",
    "print((j9_2(X9_0[0].right())).numerical_approx())\n",
    "print((j9_2(X9_0[1].right())).numerical_approx())\n",
    "print((j9_2(X9_0[2].right())).numerical_approx())\n",
    "print((j9_2(X9_0[3].right())).numerical_approx())\n",
    "print(X9_1728)"
   ]
  },
  {
   "cell_type": "markdown",
   "metadata": {
    "collapsed": false
   },
   "source": [
    "By the above, we have that if $t \\in K$ such that\n",
    "$$t^6 - 504t^5 - 16632*t^4 - 123012t^3 - 517104t^2 - 1143072t - 1475496=0,$$\n",
    "then $j_{9,1}(t)=1728$. The code below shows that $j_{9,2}(t) \\neq 1728$. This is done by considering the splitting field of the above polynomial."
   ]
  },
  {
   "cell_type": "code",
   "execution_count": 8,
   "metadata": {
    "collapsed": false
   },
   "outputs": [
   ],
   "source": [
    "K.<z> = NumberField(x^6 - 504*x^5 - 16632*x^4 - 123012*x^3 - 517104*x^2 - 1143072*x - 1475496,'w').galois_closure()\n",
    "K.<q>=K[]"
   ]
  },
  {
   "cell_type": "code",
   "execution_count": 9,
   "metadata": {
    "collapsed": false
   },
   "outputs": [
    {
     "name": "stdout",
     "output_type": "stream",
     "text": [
      "True\n"
     ]
    }
   ],
   "source": [
    "P=q^6 - 504*q^5 - 16632*q^4 - 123012*q^3 - 517104*q^2 - 1143072*q - 1475496\n",
    "P1=-75359003/6636140340499367371152*z^10 + 179060455667/27309219508227849264*z^8 - 740751451750/780441801218217*z^6 + 535277726051/713709923382*z^4 - 1298722324661/8811233622*z^2 - 245897321430/54390331\n",
    "P2=1780619/79633684085992408453824*z^10 - 117534917/9103073169409283088*z^8 + 1459023037/780441801218217*z^6 - 40103721461/25693557241752*z^4 + 56556704/163170993*z^2 - 1/2*z + 651631767/54390331\n",
    "P3=1780619/79633684085992408453824*z^10 - 117534917/9103073169409283088*z^8 + 1459023037/780441801218217*z^6 - 40103721461/25693557241752*z^4 + 56556704/163170993*z^2 + 1/2*z + 651631767/54390331\n",
    "P4=446743705/39816842042996204226912*z^10 - 29486454541/4551536584704641544*z^8 + 2927607305629/3121767204872868*z^6 - 9552934267207/12846778620876*z^4 + 24107199236/163170993*z^2 + 218275524330/54390331\n",
    "P5=-90733/31161006816257898960192*z^11 + 604949/13272280680998734742304*z^10 + 35907391/21372432658613099424*z^9 - 1436518919/54618439016455698528*z^8 - 3557838205/14658732962011728*z^7 + 23726317075/6243534409745736*z^6 + 487958641/5027000329908*z^5 - 2331171125/1427419846764*z^4 + 172828553/6895748052*z^3 - 9174558115/17622467244*z^2 + 5073283/4729594*z - 547096629/54390331\n",
    "P6=90733/31161006816257898960192*z^11 + 604949/13272280680998734742304*z^10 - 35907391/21372432658613099424*z^9 - 1436518919/54618439016455698528*z^8 + 3557838205/14658732962011728*z^7 + 23726317075/6243534409745736*z^6 - 487958641/5027000329908*z^5 - 2331171125/1427419846764*z^4 - 172828553/6895748052*z^3 - 9174558115/17622467244*z^2 - 5073283/4729594*z - 547096629/54390331\n",
    "print(P==(q+P1)*(q+P2)*(q+P3)*(q+P4)*(q+P5)*(q+P6))"
   ]
  },
  {
   "cell_type": "code",
   "execution_count": 10,
   "metadata": {
    "collapsed": false
   },
   "outputs": [
    {
     "name": "stdout",
     "output_type": "stream",
     "text": [
      "False\n",
      "False\n",
      "False\n",
      "False\n",
      "False\n",
      "False\n"
     ]
    }
   ],
   "source": [
    "print(expand(((-P1)^3 - 24)^3*(-P1)^3/((-P1)^3 - 27)-K(1728))==0)\n",
    "print(expand(((-P2)^3 - 24)^3*(-P2)^3/((-P2)^3 - 27)-K(1728))==0)\n",
    "print(expand(((-P3)^3 - 24)^3*(-P3)^3/((-P3)^3 - 27)-K(1728))==0)\n",
    "print(expand(((-P4)^3 - 24)^3*(-P4)^3/((-P4)^3 - 27)-K(1728))==0)\n",
    "print(expand(((-P5)^3 - 24)^3*(-P5)^3/((-P5)^3 - 27)-K(1728))==0)\n",
    "print(expand(((-P6)^3 - 24)^3*(-P6)^3/((-P6)^3 - 27)-K(1728))==0)"
   ]
  }
 ],
 "metadata": {
  "kernelspec": {
   "display_name": "SageMath 9.1",
   "language": "sagemath",
   "metadata": {
    "cocalc": {
     "description": "Open-source mathematical software system",
     "priority": 10,
     "url": "https://www.sagemath.org/"
    }
   },
   "name": "sage-9.1",
   "resource_dir": "/ext/jupyter/kernels/sage-9.1"
  },
  "language_info": {
   "codemirror_mode": {
    "name": "ipython",
    "version": 3
   },
   "file_extension": ".py",
   "mimetype": "text/x-python",
   "name": "python",
   "nbconvert_exporter": "python",
   "pygments_lexer": "ipython3",
   "version": "3.7.3"
  }
 },
 "nbformat": 4,
 "nbformat_minor": 4
}