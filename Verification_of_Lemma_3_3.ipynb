{
 "cells": [
  {
   "cell_type": "code",
   "execution_count": 1,
   "metadata": {
    "collapsed": false
   },
   "outputs": [
   ],
   "source": [
    "S.<t,d> = QQ[]\n",
    "S=S.fraction_field()\n",
    "load('models.sage')"
   ]
  },
  {
   "cell_type": "markdown",
   "metadata": {
    "collapsed": false
   },
   "source": [
    "This notebook verifies Lemma 3.3. Let $K$ be a field of characteristic $0$ or relatively prime to $6n$. Let $S_n = \\{ t \\in \\overline{K} \\mid j_{n,i}(t) \\in \\overline{K} \\}$ and let $ R_n =\\{ t \\in S_n \\mid \\mathcal{C}_{n,1}(t,1) \\text{ is a singular curve} \\} $. We proceed by cases, and note that in the code below, $A^c$ denotes the complement of $A$ in $\\overline{K}$."
   ]
  },
  {
   "cell_type": "markdown",
   "metadata": {
    "collapsed": false
   },
   "source": [
    "**Case n=2.** The code below shows that $S_2^c = \\{ 0 \\}$ and $R_2= \\{ -64 \\}$. The lemma holds since $j_{2,1}(-64)=j_{2,2}(-64)=1728$."
   ]
  },
  {
   "cell_type": "code",
   "execution_count": 2,
   "metadata": {
    "collapsed": false
   },
   "outputs": [
    {
     "name": "stdout",
     "output_type": "stream",
     "text": [
      "[(t + 256)^3/t^2, (t + 16)^3/t]\n"
     ]
    },
    {
     "name": "stdout",
     "output_type": "stream",
     "text": [
      "2176782336*(t + 64)^3*t^2\n",
      "[1728, 1728]\n"
     ]
    }
   ],
   "source": [
    "print([j2_1(t), j2_2(t)])\n",
    "print(factor(calC2_1(t,1).discriminant()))\n",
    "print([j2_1(-64),j2_2(-64)])"
   ]
  },
  {
   "cell_type": "markdown",
   "metadata": {
    "collapsed": false
   },
   "source": [
    "**Case n=3.** The code below shows that $S_3^c = \\{0  \\}$ and $R_3= \\{ -27 \\}$. The lemma holds since $j_{3,1}(-27)=j_{3,2}(-27)=0$."
   ]
  },
  {
   "cell_type": "code",
   "execution_count": 3,
   "metadata": {
    "collapsed": false
   },
   "outputs": [
    {
     "name": "stdout",
     "output_type": "stream",
     "text": [
      "[(t + 243)^3*(t + 27)/t^3, (t + 27)*(t + 3)^3/t]\n",
      "2985984*(t + 27)^8*t^3\n",
      "[0, 0]\n"
     ]
    }
   ],
   "source": [
    "print([j3_1(t), j3_2(t)])\n",
    "print(factor(calC3_1(t,1).discriminant()))\n",
    "print([j3_1(-27),j3_2(-27)])"
   ]
  },
  {
   "cell_type": "markdown",
   "metadata": {
    "collapsed": false
   },
   "source": [
    "**Case n=4.** The code below shows that $S_4^c = \\{ 0, -16 \\}$ and $R_4= \\emptyset$."
   ]
  },
  {
   "cell_type": "code",
   "execution_count": 4,
   "metadata": {
    "collapsed": false
   },
   "outputs": [
    {
     "name": "stdout",
     "output_type": "stream",
     "text": [
      "[(t^2 + 256*t + 4096)^3/((t + 16)*t^4), (t^2 + 16*t + 16)^3/((t + 16)*t)]\n",
      "8916100448256*(t + 16)^2*t^2\n"
     ]
    }
   ],
   "source": [
    "print([j4_1(t), j4_2(t)])\n",
    "print(factor(calC4_1(t,1).discriminant()))"
   ]
  },
  {
   "cell_type": "markdown",
   "metadata": {
    "collapsed": false
   },
   "source": [
    "**Case n=5.** The code below shows that $S_5^c = \\{ 0 \\}$ and $R_5= \\{t \\in \\overline{K} \\mid t^2+22t+125 =0  \\}$. In particular, $\\mathcal{C}_{5,1}$ is singular if $t(t^2 + 22t + 125)=0$. Since $j_{5,i}(0)$ is undefined, it suffices to consider those $t \\in \\overline{K}$ such that $t^2 + 22t + 125=0$. The code below shows that for $t \\in R_5$,\n",
    "$$j_{5,1}(t) = 1728\\frac{(19t+250)^3}{t^5}=1728$$\n",
    "$$j_{5,2}(t) = 1728\\frac{-(t+10)^3}{t}=1728$$"
   ]
  },
  {
   "cell_type": "code",
   "execution_count": 5,
   "metadata": {
    "collapsed": false
   },
   "outputs": [
    {
     "name": "stdout",
     "output_type": "stream",
     "text": [
      "[(t^2 + 250*t + 3125)^3/t^5, (t^2 + 10*t + 5)^3/t]\n",
      "2176782336*(t^2 + 22*t + 125)^3*t^5\n",
      "True\n",
      "-(t^3 - 22*t^2 - 6500*t - 125000)*(t^2 + 22*t + 125)\n",
      "True\n",
      "-(t^2 + 22*t + 125)*(t + 8)\n"
     ]
    }
   ],
   "source": [
    "print([j5_1(t), j5_2(t)])\n",
    "print(factor(calC5_1(t,1).discriminant()))\n",
    "print(S(j5_1(t)) == S((12*(19*t + 250 )  + t^2 +22*t+125)^3/t^5))\n",
    "print(factor((19*t + 250)^3 - t^5))\n",
    "print(S(j5_2(t)) == S((12*-(t + 10 )  + t^2 +22*t+125)^3/t))\n",
    "print(factor( -(t + 10 )^3 -t))"
   ]
  },
  {
   "cell_type": "markdown",
   "metadata": {
    "collapsed": false
   },
   "source": [
    "**Case n=6.** The code below shows that $S_6^c = \\{ -9, -8, 0 \\}$ and $R_6=\\emptyset$."
   ]
  },
  {
   "cell_type": "code",
   "execution_count": 6,
   "metadata": {
    "collapsed": false
   },
   "outputs": [
    {
     "name": "stdout",
     "output_type": "stream",
     "text": [
      "[(t^3 + 252*t^2 + 3888*t + 15552)^3*(t + 12)^3/((t + 9)^3*(t + 8)^2*t^6), (t^3 + 18*t^2 + 84*t + 24)^3*(t + 6)^3/((t + 9)^2*(t + 8)^3*t)]\n",
      "2985984*(t + 9)^3*(t + 8)^2*t^6\n"
     ]
    }
   ],
   "source": [
    "print([j6_1(t), j6_2(t)])\n",
    "print(factor(calC6_1(t,1).discriminant()))"
   ]
  },
  {
   "cell_type": "markdown",
   "metadata": {
    "collapsed": false
   },
   "source": [
    "**Case n=7.** The code below shows that $S_7^c = \\{ 0 \\}$ and $R_7= \\{t \\in \\overline{K} \\mid t^2+13t+49 =0  \\}$. In particular, $\\mathcal{C}_{7,1}$ is singular if $t(t^2 + 13t + 49)=0$. The claim follows since $j_{7,i}(0)$ is undefined and $j_{7,1}(t)=j_{7,2}(t)=0$ for $t \\in R_7$ by the following code:"
   ]
  },
  {
   "cell_type": "code",
   "execution_count": 7,
   "metadata": {
    "collapsed": false
   },
   "outputs": [
    {
     "name": "stdout",
     "output_type": "stream",
     "text": [
      "[(t^2 + 245*t + 2401)^3*(t^2 + 13*t + 49)/t^7, (t^2 + 13*t + 49)*(t^2 + 5*t + 1)^3/t]\n",
      "2176782336*(t^2 + 13*t + 49)^2*t^7\n"
     ]
    }
   ],
   "source": [
    "print([j7_1(t), j7_2(t)])\n",
    "print(factor(calC7_1(t,1).discriminant()))"
   ]
  },
  {
   "cell_type": "markdown",
   "metadata": {
    "collapsed": false
   },
   "source": [
    "**Case n=8.** The code below shows that $S_8^c = \\{ t \\mid t(t^2-16)=0 \\}$ and $R_8= \\emptyset$."
   ]
  },
  {
   "cell_type": "code",
   "execution_count": 8,
   "metadata": {
    "collapsed": false
   },
   "outputs": [
    {
     "name": "stdout",
     "output_type": "stream",
     "text": [
      "(t^4 + 240*t^3 + 2144*t^2 + 3840*t + 256)^3/((t + 4)^2*(t - 4)^8*t) (t^4 - 16*t^2 + 16)^3/((t^2 - 16)*t^2)\n",
      "8916100448256*(t + 4)^4*(t - 4)^4*t^2\n"
     ]
    }
   ],
   "source": [
    "print(j8_1(t), j8_2(t))\n",
    "print(factor(calC8_1(t,1).discriminant()))"
   ]
  },
  {
   "cell_type": "markdown",
   "metadata": {
    "collapsed": false
   },
   "source": [
    "**Case n=9.** The code below shows that $S_9^c = \\{ t \\mid t(t^3-27)=0 \\}$ and $R_9= \\emptyset$."
   ]
  },
  {
   "cell_type": "code",
   "execution_count": 9,
   "metadata": {
    "collapsed": false
   },
   "outputs": [
    {
     "name": "stdout",
     "output_type": "stream",
     "text": [
      "(t^3 + 234*t^2 + 756*t + 2160)^3*(t + 6)^3/((t^3 - 27)*(t - 3)^8) (t^3 - 24)^3*t^3/(t^3 - 27)\n",
      "2985984*(t^2 + 3*t + 9)*(t - 3)^9\n"
     ]
    }
   ],
   "source": [
    "print(j9_1(t), j9_2(t))\n",
    "print(factor(calC9_1(t,1).discriminant()))"
   ]
  },
  {
   "cell_type": "markdown",
   "metadata": {
    "collapsed": false
   },
   "source": [
    "**Case n=10.** The code below shows that $S_{10}^c = \\{ -1,0, 4 \\}$ and $R_{10}= \\{t \\mid t^2+4 = 0 \\}$. In particular, $\\mathcal{C}_{10,1}$ is singular $(t^2 + 4)(t + 1)(t - 4)t=0$. Since $j_{10,i}(t)$ is undefined if $t \\in S_{10}^c$, it suffices to consider those $t \\in \\overline{K}$ such that $t \\in R_{10}$. The code below shows that for $t\\in R_{10}$, we have:\n",
    "$$j_{10,1}(t) = 1728\\frac{(59t^5 + 357t^4 + 480t^3 + 948t^2 + 64t + 48)^3}{27(t + 1)^5(t - 4)^{10}t^2}=1728$$\n",
    "$$j_{10,2}(t) = 1728\\frac{-((t^2 + 2) (t^3 + 3t^2 - 2t + 6))^3}{27(t + 1)^2(t - 4)t^5}=1728$$"
   ]
  },
  {
   "cell_type": "code",
   "execution_count": 10,
   "metadata": {
    "collapsed": false
   },
   "outputs": [
    {
     "name": "stdout",
     "output_type": "stream",
     "text": [
      "[(t^6 + 236*t^5 + 1440*t^4 + 1920*t^3 + 3840*t^2 + 256*t + 256)^3/((t + 1)^5*(t - 4)^10*t^2), (t^6 - 4*t^5 + 16*t + 16)^3/((t + 1)^2*(t - 4)*t^5)]\n",
      "Discriminant of calC10_1 = 2176782336*(t^2 + 4)^3*(t + 1)^5*(t - 4)^10*t^2\n",
      "Discriminant of calC10_2 = 8916100448256*(t^2 + 4)^3*(t + 1)^10*(t - 4)^5*t\n",
      "Discriminant of calC10_3 = 531441000000000000*(t^2 + 4)^3*(t + 1)*(t - 4)^2*t^10\n",
      "Discriminant of calC10_4 = 2176782336000000000000*(t^2 + 4)^3*(t + 1)^2*(t - 4)*t^5\n",
      "True\n",
      "-(27*t^15 - 945*t^14 - 191177*t^13 - 3845061*t^12 - 26207950*t^11 - 102274722*t^10 - 239024696*t^9 - 362935764*t^8 - 345844816*t^7 - 284446512*t^6 - 102143552*t^5 - 37207296*t^4 + 12459008*t^3 + 5299200*t^2 - 110592*t - 27648)*(t^2 + 4)\n",
      "True\n",
      "-(t^13 + 9*t^12 + 23*t^11 + 27*t^10 + 112*t^9 + 180*t^8 + 92*t^7 + 639*t^6 - 374*t^5 + 1431*t^4 - 772*t^3 + 1332*t^2 - 432*t + 432)*(t^2 + 4)\n"
     ]
    }
   ],
   "source": [
    "print([j10_1(t), j10_2(t)])\n",
    "print('Discriminant of calC10_1 =',factor(calC10_1(t,1).discriminant()))\n",
    "print('Discriminant of calC10_2 =',factor(calC10_2(t,1).discriminant()))\n",
    "print('Discriminant of calC10_3 =',factor(calC10_3(t,1).discriminant()))\n",
    "print('Discriminant of calC10_4 =',factor(calC10_4(t,1).discriminant()))\n",
    "print(S(j10_1(t)) == S(((12) * (59*t^5 + 357*t^4 + 480*t^3 + 948*t^2 + 64*t + 48)/3  + (t^2 + 4)^3)^3/((t + 1)^5*(t - 4)^10*t^2)))\n",
    "print(factor(((59*t^5 + 357*t^4 + 480*t^3 + 948*t^2 + 64*t + 48))^3 - (27*(t + 1)^5*(t - 4)^10*t^2)))\n",
    "print(S(j10_2(t)) == S(((12) * -(t^2 + 2) * (t^3 + 3*t^2 - 2*t + 6)/3  + (t^2 +4)^3)^3/((t + 1)^2*(t - 4)*t^5)))\n",
    "print(factor( (-(t^2 + 2) * (t^3 + 3*t^2 - 2*t + 6))^3 -27*((t + 1)^2*(t - 4)*t^5)    ))"
   ]
  },
  {
   "cell_type": "markdown",
   "metadata": {
    "collapsed": false
   },
   "source": [
    "**Case n=12.** The code below shows that $S_{12}^c = \\{ \\pm3,\\pm1,0\\}$ and $R_{12}= \\emptyset$."
   ]
  },
  {
   "cell_type": "code",
   "execution_count": 11,
   "metadata": {
    "collapsed": false
   },
   "outputs": [
    {
     "name": "stdout",
     "output_type": "stream",
     "text": [
      "(t^6 + 234*t^5 + 747*t^4 + 540*t^3 - 729*t^2 - 486*t - 243)^3*(t^2 + 6*t - 3)^3/((t + 3)^3*(t + 1)^4*(t - 1)*(t - 3)^12*t^3) (t^6 - 9*t^4 + 3*t^2 - 3)^3*(t^2 - 3)^3/((t^2 - 1)^3*(t^2 - 9)*t^4)\n",
      "12230590464*(t + 3)^6*(t + 1)^2*(t - 1)^2*(t - 3)^6*t^6\n"
     ]
    }
   ],
   "source": [
    "print(j12_1(t), j12_2(t))\n",
    "print(factor(calC12_1(t,1).discriminant()))"
   ]
  },
  {
   "cell_type": "markdown",
   "metadata": {
    "collapsed": false
   },
   "source": [
    "**Case n=13.** The code below shows that $S_{13}^c = \\{ 0 \\}$ and $R_{13}= \\{t \\mid (t^2 + 6t + 13)(t^2 + 5t + 13) = 0 \\}$. In particular, $\\mathcal{C}_{13,1}$ is singular $(t^2 + 6t + 13)(t^2 + 5t + 13)t=0$. Since $j_{13,i}(t)$ is undefined if $t=0$, it suffices to consider those $t \\in R_{13}$. If $t^2+5t+13=0$, then $j_{13,1}(t)=j_{13,2}(t)=0$. The code below also shows that if $t^2+6t+13=0$, then:\n",
    "$$j_{13,1}(t) = 1728\\frac{(47t^2 + 297t + 728)^3(5t + 39)^3(t^2 + 5t + 13) }{1728t^{13}}=1728$$\n",
    "$$j_{13,2}(t) = 1728\\frac{  (-(5t^2 + 27t + 56)(t + 3))^3(t^2 + 5t + 13)  }{1728t  }=1728$$"
   ]
  },
  {
   "cell_type": "code",
   "execution_count": 12,
   "metadata": {
    "collapsed": false
   },
   "outputs": [
    {
     "name": "stdout",
     "output_type": "stream",
     "text": [
      "[(t^4 + 247*t^3 + 3380*t^2 + 15379*t + 28561)^3*(t^2 + 5*t + 13)/t^13, (t^4 + 7*t^3 + 20*t^2 + 19*t + 1)^3*(t^2 + 5*t + 13)/t]\n",
      "[2176782336*(t^2 + 6*t + 13)^3*(t^2 + 5*t + 13)^2*t^13]\n",
      "True\n",
      "-(1728*t^11 - 10368*t^10 - 12938131*t^9 - 536835455*t^8 - 9811555137*t^7 - 105166645210*t^6 - 736371691965*t^5 - 3525240012671*t^4 - 11632363562287*t^3 - 25743344248440*t^2 - 35053504799040*t - 22886952012288)*(t^2 + 6*t + 13)\n",
      "True\n",
      "-(125*t^9 + 3025*t^8 + 34335*t^7 + 238598*t^6 + 1114371*t^5 + 3618529*t^4 + 8155745*t^3 + 12291768*t^2 + 11235456*t + 4741632)*(t^2 + 6*t + 13)\n"
     ]
    }
   ],
   "source": [
    "print([j13_1(t), j13_2(t)])\n",
    "print([factor(calC13_1(t,1).discriminant())])\n",
    "print(S(j13_1(t)) == S(((47*t^2 + 297*t + 728)*(5*t + 39)  + (t^2 + 6*t + 13)^2)^3*(t^2 + 5*t + 13)/t^13))\n",
    "print(factor(((47*t^2 + 297*t + 728)*(5*t + 39))^3*(t^2 + 5*t + 13) - 1728*t^13))\n",
    "print(S(j13_2(t)) == S((-(5*t^2 + 27*t + 56)*(t + 3)  + (t^2 + 6*t + 13)^2)^3*(t^2 + 5*t + 13)/t))\n",
    "print(factor(  (-(5*t^2 + 27*t + 56)*(t + 3))^3*(t^2 + 5*t + 13)    - 1728*t))"
   ]
  },
  {
   "cell_type": "markdown",
   "metadata": {
    "collapsed": false
   },
   "source": [
    "**Case n=16.** The code below shows that $S_{16}^c = \\{ t \\mid t(t^4-16)=0  \\}$ and $R_{16}= \\emptyset$."
   ]
  },
  {
   "cell_type": "code",
   "execution_count": 13,
   "metadata": {
    "collapsed": false
   },
   "outputs": [
    {
     "name": "stdout",
     "output_type": "stream",
     "text": [
      "(t^8 + 240*t^7 + 2160*t^6 + 6720*t^5 + 17504*t^4 + 26880*t^3 + 34560*t^2 + 15360*t + 256)^3/((t^2 + 4)*(t + 2)^4*(t - 2)^16*t) (t^8 - 16*t^4 + 16)^3/((t^4 - 16)*t^4)\n",
      "8916100448256*(t^2 + 4)^2*(t + 2)^8*(t - 2)^8*t^2\n"
     ]
    }
   ],
   "source": [
    "print(j16_1(t), j16_2(t))\n",
    "print(factor(calC16_1(t,1).discriminant()))"
   ]
  },
  {
   "cell_type": "markdown",
   "metadata": {
    "collapsed": false
   },
   "source": [
    "**Case n=18.** The code below shows that $S_{18}^c = \\{ t \\mid t(t^3 + 1)(t^3 - 8)=0  \\}$ and $R_{18}= \\emptyset$."
   ]
  },
  {
   "cell_type": "code",
   "execution_count": 14,
   "metadata": {
    "collapsed": false
   },
   "outputs": [
    {
     "name": "stdout",
     "output_type": "stream",
     "text": [
      "(t^9 + 234*t^8 + 756*t^7 + 2172*t^6 + 1872*t^5 + 3024*t^4 + 48*t^3 + 3744*t^2 + 64)^3*(t^3 + 6*t^2 + 4)^3/((t^2 + 2*t + 4)^2*(t^2 - t + 1)*(t + 1)^9*(t - 2)^18*t^2) (t^9 - 6*t^6 - 12*t^3 - 8)^3*(t^3 - 2)^3/((t^3 + 1)^2*(t^3 - 8)*t^9)\n",
      "2985984*(t^2 + 2*t + 4)^2*(t^2 - t + 1)*(t + 1)^9*(t - 2)^18*t^2\n"
     ]
    }
   ],
   "source": [
    "print(j18_1(t), j18_2(t))\n",
    "print(factor(calC18_1(t,1).discriminant()))"
   ]
  },
  {
   "cell_type": "markdown",
   "metadata": {
    "collapsed": false
   },
   "source": [
    "**Case n=25.** The code below shows that $S_{25}^c = \\{ t \\mid (t^4 + t^3 + 6t^2 + 6t + 11)(t - 1)=0 \\}$ and $R_{25}= \\{t \\mid t^2 +4= 0 \\}$. In particular, $\\mathcal{C}_{25,1}$ is singular $(t^4 + t^3 + 6t^2 + 6t + 11)(t^2 + 4)(t - 1)=0$. Since $j_{25,i}(t)$ is undefined if $(t^4 + t^3 + 6t^2 + 6t + 11)(t - 1)=0$, it suffices to consider those $t \\in \\overline{K}$ such that $t^2 + 4=0$. The code below verifies the following identity for $t \\ in R_{25}$:\n",
    "$$j_{25,1}(t) = 1728\\frac{(240t^9 + 2150t^8 + 8880t^7 + 34675t^6 + 83748t^5 + 205570t^4 + 313380t^3 + 502265t^2 + 424740t + 374352)^3 }{1728(t^4 + t^3 + 6t^2 + 6t + 11)(t - 1)^{25} }=1728,$$\n",
    "$$j_{25,2}(t) = 1728\\frac{(-10t^8 - 125t^6 - 12t^5 - 590t^4 - 60t^3 - 1255t^2 - 60t - 1008)^3 }{1728(t^4 + t^3 + 6t^2 + 6t + 11)(t - 1) }=1728.$$"
   ]
  },
  {
   "cell_type": "code",
   "execution_count": 15,
   "metadata": {
    "collapsed": false
   },
   "outputs": [
    {
     "name": "stdout",
     "output_type": "stream",
     "text": [
      "[(t^10 + 240*t^9 + 2170*t^8 + 8880*t^7 + 34835*t^6 + 83748*t^5 + 206210*t^4 + 313380*t^3 + 503545*t^2 + 424740*t + 375376)^3/((t^4 + t^3 + 6*t^2 + 6*t + 11)*(t - 1)^25), (t^10 + 10*t^8 + 35*t^6 - 12*t^5 + 50*t^4 - 60*t^3 + 25*t^2 - 60*t + 16)^3/((t^4 + t^3 + 6*t^2 + 6*t + 11)*(t - 1))]\n",
      "Discriminant of calC25_1 = 2176782336*(t^4 + t^3 + 6*t^2 + 6*t + 11)*(t^2 + 4)^3*(t - 1)^25\n",
      "Discriminant of calC25_2 = 531441000000000000*(t^4 + t^3 + 6*t^2 + 6*t + 11)^5*(t^2 + 4)^3*(t - 1)^5\n",
      "Discriminant of calC25_3 = 129746337890625000000000000*(t^4 + t^3 + 6*t^2 + 6*t + 11)*(t^2 + 4)^3*(t - 1)\n",
      "True\n",
      "-(1728*t^27 - 41472*t^26 - 13345344*t^25 - 375058944*t^24 - 4788527616*t^23 - 42013619864*t^22 - 282262680576*t^21 - 1560602462884*t^20 - 7329273515136*t^19 - 30033060391754*t^18 - 108819065908656*t^17 - 353230082711879*t^16 - 1033119684085356*t^15 - 2742270396550654*t^14 - 6615377289218988*t^13 - 14560407124440119*t^12 - 29185553754303588*t^11 - 53354888560901714*t^10 - 88494044209782408*t^9 - 133044320594710573*t^8 - 179488444337883828*t^7 - 216418075522266098*t^6 - 228797706381179148*t^5 - 210094281930619233*t^4 - 160725257805336444*t^3 - 100162469933076636*t^2 - 44642112907402512*t - 13115368029980304)*(t^2 + 4)\n",
      "True\n",
      "-(1000*t^22 + 33500*t^20 + 3600*t^19 + 511750*t^18 + 93600*t^17 + 4711945*t^16 + 1080900*t^15 + 29063570*t^14 + 7278228*t^13 + 126044425*t^12 + 31469868*t^11 + 391919710*t^10 + 90490248*t^9 + 873080291*t^8 + 172718748*t^7 + 1364813566*t^6 + 210511188*t^5 + 1425388671*t^4 + 148201380*t^3 + 895080996*t^2 + 45725040*t + 256043376)*(t^2 + 4)\n"
     ]
    }
   ],
   "source": [
    "print([factor(j25_1(t)), factor(j25_2(t))])\n",
    "print('Discriminant of calC25_1 =',factor(calC25_1(t,1).discriminant()))\n",
    "print('Discriminant of calC25_2 =',factor(calC25_2(t,1).discriminant()))\n",
    "print('Discriminant of calC25_3 =',factor(calC25_3(t,1).discriminant()))\n",
    "print(S(j25_1(t)) == S(( 240*t^9 + 2150*t^8 + 8880*t^7 + 34675*t^6 + 83748*t^5 + 205570*t^4 + 313380*t^3 + 502265*t^2 + 424740*t + 374352  + (t^2 +4)^5)^3/((t^4 + t^3 + 6*t^2 + 6*t + 11)*(t - 1)^25)))\n",
    "print(factor((240*t^9 + 2150*t^8 + 8880*t^7 + 34675*t^6 + 83748*t^5 + 205570*t^4 + 313380*t^3 + 502265*t^2 + 424740*t + 374352)^3 - 1728*((t^4 + t^3 + 6*t^2 + 6*t + 11)*(t - 1)^25  )))\n",
    "print(S(j25_2(t)) == S((-10*t^8 - 125*t^6 - 12*t^5 - 590*t^4 - 60*t^3 - 1255*t^2 - 60*t - 1008  + (t^2 +4)^5   )^3/((t^4 + t^3 + 6*t^2 + 6*t + 11)*(t - 1))  ))\n",
    "print(factor( (-10*t^8 - 125*t^6 - 12*t^5 - 590*t^4 - 60*t^3 - 1255*t^2 - 60*t - 1008)^3 - 1728*(t^4 + t^3 + 6*t^2 + 6*t + 11)*(t - 1)   ))"
   ]
  },
  {
   "cell_type": "code",
   "execution_count": 0,
   "metadata": {
    "collapsed": false
   },
   "outputs": [
   ],
   "source": [
   ]
  }
 ],
 "metadata": {
  "kernelspec": {
   "display_name": "SageMath 9.1",
   "language": "sagemath",
   "metadata": {
    "cocalc": {
     "description": "Open-source mathematical software system",
     "priority": 10,
     "url": "https://www.sagemath.org/"
    }
   },
   "name": "sage-9.1",
   "resource_dir": "/ext/jupyter/kernels/sage-9.1"
  },
  "language_info": {
   "codemirror_mode": {
    "name": "ipython",
    "version": 3
   },
   "file_extension": ".py",
   "mimetype": "text/x-python",
   "name": "python",
   "nbconvert_exporter": "python",
   "pygments_lexer": "ipython3",
   "version": "3.7.3"
  }
 },
 "nbformat": 4,
 "nbformat_minor": 4
}